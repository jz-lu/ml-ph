{
 "cells": [
  {
   "cell_type": "markdown",
   "metadata": {},
   "source": [
    "# Practice generating a band structure."
   ]
  },
  {
   "cell_type": "code",
   "execution_count": 9,
   "metadata": {},
   "outputs": [],
   "source": [
    "import pymatgen as mg\n",
    "from pymatgen.io.vasp.outputs import BSVasprun, Vasprun\n",
    "from pymatgen import Spin\n",
    "from pymatgen.electronic_structure.plotter import BSPlotter, BSDOSPlotter, DosPlotter\n",
    "\n",
    "import matplotlib.pyplot as plt\n",
    "%matplotlib inline"
   ]
  },
  {
   "cell_type": "code",
   "execution_count": 12,
   "metadata": {
    "tags": []
   },
   "outputs": [
    {
     "output_type": "stream",
     "name": "stdout",
     "text": "CHG                        POSCAR\nCHGCAR                     POTCAR\nCONTCAR                    WAVECAR\nCsCl.cif                   \u001b[34mWolframLanguageForJupyter\u001b[m\u001b[m/\nDOSCAR                     XDATCAR\nEIGENVAL                   bat\nINCAR                      job_64794890.out\nKPOINTS                    test.py\n\u001b[34mMyInputFiles\u001b[m\u001b[m/              tutorial1.ipynb\nOSZICAR                    tutorial2.ipynb\nOUTCAR                     vasprun.xml\nPCDAT\n"
    }
   ],
   "source": [
    "ls"
   ]
  },
  {
   "cell_type": "code",
   "execution_count": 29,
   "metadata": {},
   "outputs": [
    {
     "output_type": "error",
     "ename": "AttributeError",
     "evalue": "'BSVasprun' object has no attribute 'final_structure'",
     "traceback": [
      "\u001b[0;31m---------------------------------------------------------------------------\u001b[0m",
      "\u001b[0;31mAttributeError\u001b[0m                            Traceback (most recent call last)",
      "\u001b[0;32m<ipython-input-29-7a26b7ede07e>\u001b[0m in \u001b[0;36m<module>\u001b[0;34m\u001b[0m\n\u001b[1;32m      1\u001b[0m \u001b[0mrun\u001b[0m \u001b[0;34m=\u001b[0m \u001b[0mBSVasprun\u001b[0m\u001b[0;34m(\u001b[0m\u001b[0;34m\"vasprun.xml\"\u001b[0m\u001b[0;34m,\u001b[0m \u001b[0mparse_projected_eigen\u001b[0m\u001b[0;34m=\u001b[0m\u001b[0;32mTrue\u001b[0m\u001b[0;34m)\u001b[0m\u001b[0;34m\u001b[0m\u001b[0;34m\u001b[0m\u001b[0m\n\u001b[0;32m----> 2\u001b[0;31m \u001b[0mbs\u001b[0m \u001b[0;34m=\u001b[0m \u001b[0mrun\u001b[0m\u001b[0;34m.\u001b[0m\u001b[0mget_band_structure\u001b[0m\u001b[0;34m(\u001b[0m\u001b[0;34m\"KPOINTS\"\u001b[0m\u001b[0;34m)\u001b[0m\u001b[0;34m\u001b[0m\u001b[0;34m\u001b[0m\u001b[0m\n\u001b[0m",
      "\u001b[0;32m~/miniconda3/envs/my_pymatgen/lib/python3.8/site-packages/pymatgen/io/vasp/outputs.py\u001b[0m in \u001b[0;36mget_band_structure\u001b[0;34m(self, kpoints_filename, efermi, line_mode, force_hybrid_mode)\u001b[0m\n\u001b[1;32m    787\u001b[0m         \u001b[0;32mif\u001b[0m \u001b[0mos\u001b[0m\u001b[0;34m.\u001b[0m\u001b[0mpath\u001b[0m\u001b[0;34m.\u001b[0m\u001b[0mexists\u001b[0m\u001b[0;34m(\u001b[0m\u001b[0mkpoints_filename\u001b[0m\u001b[0;34m)\u001b[0m\u001b[0;34m:\u001b[0m\u001b[0;34m\u001b[0m\u001b[0;34m\u001b[0m\u001b[0m\n\u001b[1;32m    788\u001b[0m             \u001b[0mkpoint_file\u001b[0m \u001b[0;34m=\u001b[0m \u001b[0mKpoints\u001b[0m\u001b[0;34m.\u001b[0m\u001b[0mfrom_file\u001b[0m\u001b[0;34m(\u001b[0m\u001b[0mkpoints_filename\u001b[0m\u001b[0;34m)\u001b[0m\u001b[0;34m\u001b[0m\u001b[0;34m\u001b[0m\u001b[0m\n\u001b[0;32m--> 789\u001b[0;31m         \u001b[0mlattice_new\u001b[0m \u001b[0;34m=\u001b[0m \u001b[0mLattice\u001b[0m\u001b[0;34m(\u001b[0m\u001b[0mself\u001b[0m\u001b[0;34m.\u001b[0m\u001b[0mfinal_structure\u001b[0m\u001b[0;34m.\u001b[0m\u001b[0mlattice\u001b[0m\u001b[0;34m.\u001b[0m\u001b[0mreciprocal_lattice\u001b[0m\u001b[0;34m.\u001b[0m\u001b[0mmatrix\u001b[0m\u001b[0;34m)\u001b[0m\u001b[0;34m\u001b[0m\u001b[0;34m\u001b[0m\u001b[0m\n\u001b[0m\u001b[1;32m    790\u001b[0m \u001b[0;34m\u001b[0m\u001b[0m\n\u001b[1;32m    791\u001b[0m         kpoints = [np.array(self.actual_kpoints[i])\n",
      "\u001b[0;31mAttributeError\u001b[0m: 'BSVasprun' object has no attribute 'final_structure'"
     ]
    }
   ],
   "source": [
    "run = BSVasprun(\"vasprun.xml\", parse_projected_eigen=True)\n",
    "bs = run.get_band_structure(\"KPOINTS\")"
   ]
  },
  {
   "cell_type": "code",
   "execution_count": 27,
   "metadata": {},
   "outputs": [
    {
     "output_type": "error",
     "ename": "ValueError",
     "evalue": "BSPlotter only works with BandStructureSymmLine objects. A BandStructure object (on a uniform grid for instance and not along symmetry lines won't work)",
     "traceback": [
      "\u001b[0;31m---------------------------------------------------------------------------\u001b[0m",
      "\u001b[0;31mValueError\u001b[0m                                Traceback (most recent call last)",
      "\u001b[0;32m<ipython-input-27-7f13ab621c11>\u001b[0m in \u001b[0;36m<module>\u001b[0;34m\u001b[0m\n\u001b[0;32m----> 1\u001b[0;31m \u001b[0mbsplot\u001b[0m \u001b[0;34m=\u001b[0m \u001b[0mBSPlotter\u001b[0m\u001b[0;34m(\u001b[0m\u001b[0mbs\u001b[0m\u001b[0;34m)\u001b[0m\u001b[0;34m\u001b[0m\u001b[0;34m\u001b[0m\u001b[0m\n\u001b[0m",
      "\u001b[0;32m~/miniconda3/envs/my_pymatgen/lib/python3.8/site-packages/pymatgen/electronic_structure/plotter.py\u001b[0m in \u001b[0;36m__init__\u001b[0;34m(self, bs)\u001b[0m\n\u001b[1;32m    256\u001b[0m         \"\"\"\n\u001b[1;32m    257\u001b[0m         \u001b[0;32mif\u001b[0m \u001b[0;32mnot\u001b[0m \u001b[0misinstance\u001b[0m\u001b[0;34m(\u001b[0m\u001b[0mbs\u001b[0m\u001b[0;34m,\u001b[0m \u001b[0mBandStructureSymmLine\u001b[0m\u001b[0;34m)\u001b[0m\u001b[0;34m:\u001b[0m\u001b[0;34m\u001b[0m\u001b[0;34m\u001b[0m\u001b[0m\n\u001b[0;32m--> 258\u001b[0;31m             raise ValueError(\n\u001b[0m\u001b[1;32m    259\u001b[0m                 \u001b[0;34m\"BSPlotter only works with BandStructureSymmLine objects. \"\u001b[0m\u001b[0;34m\u001b[0m\u001b[0;34m\u001b[0m\u001b[0m\n\u001b[1;32m    260\u001b[0m                 \u001b[0;34m\"A BandStructure object (on a uniform grid for instance and \"\u001b[0m\u001b[0;34m\u001b[0m\u001b[0;34m\u001b[0m\u001b[0m\n",
      "\u001b[0;31mValueError\u001b[0m: BSPlotter only works with BandStructureSymmLine objects. A BandStructure object (on a uniform grid for instance and not along symmetry lines won't work)"
     ]
    }
   ],
   "source": [
    "bsplot = BSPlotter(bs)"
   ]
  },
  {
   "cell_type": "code",
   "execution_count": null,
   "metadata": {},
   "outputs": [],
   "source": []
  }
 ],
 "metadata": {
  "language_info": {
   "codemirror_mode": {
    "name": "ipython",
    "version": 3
   },
   "file_extension": ".py",
   "mimetype": "text/x-python",
   "name": "python",
   "nbconvert_exporter": "python",
   "pygments_lexer": "ipython3",
   "version": 3
  },
  "orig_nbformat": 2,
  "kernelspec": {
   "name": "python_defaultSpec_1595282177784",
   "display_name": "Python 3.8.3 64-bit ('my_pymatgen': conda)"
  }
 },
 "nbformat": 4,
 "nbformat_minor": 2
}