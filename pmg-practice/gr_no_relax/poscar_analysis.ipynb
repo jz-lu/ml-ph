{
 "metadata": {
  "language_info": {
   "codemirror_mode": {
    "name": "ipython",
    "version": 3
   },
   "file_extension": ".py",
   "mimetype": "text/x-python",
   "name": "python",
   "nbconvert_exporter": "python",
   "pygments_lexer": "ipython3",
   "version": 3
  },
  "orig_nbformat": 2,
  "kernelspec": {
   "name": "python_defaultSpec_1595357656310",
   "display_name": "Python 3.8.3 64-bit ('my_pymatgen': conda)"
  }
 },
 "nbformat": 4,
 "nbformat_minor": 2,
 "cells": [
  {
   "cell_type": "markdown",
   "metadata": {},
   "source": [
    "# Generating VASP Inputs for relaxation"
   ]
  },
  {
   "cell_type": "code",
   "execution_count": 4,
   "metadata": {},
   "outputs": [],
   "source": [
    "from pymatgen import MPRester, Composition\n",
    "import re\n",
    "import pprint\n",
    "\n",
    "# Make sure that you have the Materials API key. Put the key in the call to\n",
    "# MPRester if needed, e.g, MPRester(\"MY_API_KEY\")\n",
    "mpr = MPRester(\"LHTUP3agFE612koX\")"
   ]
  },
  {
   "cell_type": "code",
   "execution_count": 5,
   "metadata": {},
   "outputs": [],
   "source": [
    "from pymatgen import Structure\n",
    "from pymatgen.io.vasp.sets import MPRelaxSet\n",
    "\n",
    "s = Structure.from_file(\"./gr/POSCAR\", primitive=True)\n",
    "# custom_settings = {\"NELMIN\": 5} # user custom incar settings\n",
    "# relax = MPRelaxSet(s, user_incar_settings=custom_settings)\n",
    "# relax.write_input(\"Gr-relax\")"
   ]
  },
  {
   "cell_type": "code",
   "execution_count": 6,
   "metadata": {},
   "outputs": [
    {
     "output_type": "execute_result",
     "data": {
      "text/plain": "array([[0.        , 0.        , 0.        ],\n       [1.41999858, 0.        , 0.        ]])"
     },
     "metadata": {},
     "execution_count": 6
    }
   ],
   "source": [
    "s.cart_coords"
   ]
  },
  {
   "cell_type": "code",
   "execution_count": 7,
   "metadata": {},
   "outputs": [
    {
     "output_type": "execute_result",
     "data": {
      "text/plain": "(2.4595121100608552, 2.4595121100608552, 20.0)"
     },
     "metadata": {},
     "execution_count": 7
    }
   ],
   "source": [
    "s.lattice.abc"
   ]
  },
  {
   "cell_type": "code",
   "execution_count": 8,
   "metadata": {},
   "outputs": [
    {
     "output_type": "execute_result",
     "data": {
      "text/plain": "[Element C, Element C]"
     },
     "metadata": {},
     "execution_count": 8
    }
   ],
   "source": [
    "s.species"
   ]
  },
  {
   "cell_type": "code",
   "execution_count": null,
   "metadata": {},
   "outputs": [],
   "source": []
  }
 ]
}