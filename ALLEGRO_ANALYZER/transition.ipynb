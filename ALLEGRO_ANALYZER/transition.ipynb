{
 "cells": [
  {
   "cell_type": "markdown",
   "metadata": {},
   "source": [
    "# High-energy LB phase transitions"
   ]
  },
  {
   "cell_type": "code",
   "execution_count": 2,
   "metadata": {},
   "outputs": [],
   "source": [
    "import numpy as np\n",
    "import numpy.linalg as LA\n",
    "import matplotlib.pyplot as plt\n",
    "from itertools import product as prod\n",
    "from __class_PhononConfig import TwistedRealspacePhonon\n",
    "from pymatgen.io.vasp.inputs import Poscar\n",
    "%matplotlib inline"
   ]
  },
  {
   "cell_type": "markdown",
   "metadata": {},
   "source": [
    "## MoS2-0"
   ]
  },
  {
   "cell_type": "code",
   "execution_count": 7,
   "metadata": {},
   "outputs": [
    {
     "name": "stdout",
     "output_type": "stream",
     "text": [
      "101 angles from 0.01 to 10.0\n",
      "Dataset shape: (101, 61)\n",
      "Number of modes: 61\n"
     ]
    }
   ],
   "source": [
    "ROOT = '/Users/jonathanlu/Documents'\n",
    "DIRNAME = \"tvMoS2\"\n",
    "THSPC_DIR = \"theta\"\n",
    "\n",
    "# Change as necessary\n",
    "M1_th_min, M1_th_max, M1_ntheta = np.loadtxt(f\"{ROOT}/{DIRNAME}/theta.txt\")\n",
    "M1_ntheta = int(M1_ntheta)\n",
    "KPT = 'Gamma'\n",
    "print(f\"{M1_ntheta} angles from {M1_th_min} to {M1_th_max}\")\n",
    "\n",
    "# Import dataset from the directory\n",
    "log_name = r'$\\Gamma$' if KPT == 'Gamma' else KPT\n",
    "path = f'{ROOT}/{DIRNAME}/{THSPC_DIR}/{KPT}/thspc_modes.npy'\n",
    "poscars_uc = [Poscar.from_file(f'{ROOT}/{DIRNAME}/POSCAR_LAYER{i+1}') for i in range(2)]\n",
    "M1_dataset = np.load(path)\n",
    "M1_nmodes = M1_dataset.shape[1]\n",
    "print(\"Dataset shape:\", M1_dataset.shape)\n",
    "print(\"Number of modes:\", M1_nmodes)\n",
    "M1_thetas = np.linspace(M1_th_min, M1_th_max, M1_ntheta)"
   ]
  },
  {
   "cell_type": "code",
   "execution_count": 25,
   "metadata": {},
   "outputs": [],
   "source": [
    "# Find indices of LB modes, manually\n",
    "M1_LB2_idxs = np.zeros(M1_ntheta).astype(int)\n",
    "M1_LB2_idxs[23:] = 23\n",
    "M1_LB2_idxs[22:23] = 29\n",
    "M1_LB2_idxs[:22] = 35\n",
    "\n",
    "M1_LB3_idxs = np.zeros(M1_ntheta).astype(int)\n",
    "M1_LB3_idxs[58:] = 27\n",
    "M1_LB3_idxs[25:58] = 29\n",
    "M1_LB3_idxs[24:25] = 35\n",
    "M1_LB3_idxs[:24] = 41\n",
    "\n",
    "np.save(f'{ROOT}/{DIRNAME}/{THSPC_DIR}/data/MoS2_LB2_idxs.npy', M1_LB2_idxs)\n",
    "np.save(f'{ROOT}/{DIRNAME}/{THSPC_DIR}/data/MoS2_LB3_idxs.npy', M1_LB3_idxs)\n",
    "\n",
    "# Extract the mode list from the indices\n",
    "M1_LB2_modes = np.zeros(M1_ntheta)\n",
    "M1_LB3_modes = np.zeros(M1_ntheta)\n",
    "\n",
    "for i in range(M1_ntheta):\n",
    "    M1_LB2_modes[i] = M1_dataset[i, M1_LB2_idxs[i]]\n",
    "    M1_LB3_modes[i] = M1_dataset[i, M1_LB3_idxs[i]]\n",
    "np.save(f'{ROOT}/{DIRNAME}/{THSPC_DIR}/data/MoS2_LB2_modes.npy', M1_LB2_modes)\n",
    "np.save(f'{ROOT}/{DIRNAME}/{THSPC_DIR}/data/MoS2_LB3_modes.npy', M1_LB3_modes)"
   ]
  },
  {
   "cell_type": "code",
   "execution_count": 26,
   "metadata": {},
   "outputs": [
    {
     "data": {
      "image/png": "[encoded data removed]",
      "text/plain": [
       "<Figure size 432x288 with 1 Axes>"
      ]
     },
     "metadata": {
      "needs_background": "light"
     },
     "output_type": "display_data"
    },
    {
     "data": {
      "text/plain": [
       "array([33.48215081, 32.90775246, 33.13413196, 33.18630284, 33.21048664])"
      ]
     },
     "execution_count": 26,
     "metadata": {},
     "output_type": "execute_result"
    }
   ],
   "source": [
    "# Plot LB modes\n",
    "plt.plot(M1_thetas[1:], M1_LB2_modes[1:], c='k', label=r'MoS$_2$')\n",
    "plt.plot(M1_thetas[1:], M1_LB3_modes[1:], c='cornflowerblue', linestyle=':')\n",
    "plt.title(r\"$\\theta$-dynamic LB modes at \" + log_name)\n",
    "plt.xlabel(r'$\\theta$ ($^\\circ$)')\n",
    "plt.ylabel(r'$\\omega$ $(cm^{-1})$')\n",
    "plt.legend()\n",
    "\n",
    "# plt.savefig(\"/Users/jonathanlu/Documents/tvMoS2/theta/data/transition.pdf\")\n",
    "plt.show()\n",
    "M1_LB2_modes[22:27]"
   ]
  },
  {
   "cell_type": "code",
   "execution_count": null,
   "metadata": {},
   "outputs": [],
   "source": []
  }
 ],
 "metadata": {
  "interpreter": {
   "hash": "d6de9be78b6020e3c4b915c697ec9df5423262584917bd5f64c63e56f57b2ea4"
  },
  "kernelspec": {
   "display_name": "Python 3.7.7 ('base')",
   "language": "python",
   "name": "python3"
  },
  "language_info": {
   "codemirror_mode": {
    "name": "ipython",
    "version": 3
   },
   "file_extension": ".py",
   "mimetype": "text/x-python",
   "name": "python",
   "nbconvert_exporter": "python",
   "pygments_lexer": "ipython3",
   "version": "3.7.7"
  },
  "orig_nbformat": 4
 },
 "nbformat": 4,
 "nbformat_minor": 2
}
