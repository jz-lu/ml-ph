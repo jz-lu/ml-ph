{
 "cells": [
  {
   "cell_type": "markdown",
   "metadata": {},
   "source": [
    "# High-energy LB phase transitions"
   ]
  },
  {
   "cell_type": "code",
   "execution_count": 50,
   "metadata": {},
   "outputs": [],
   "source": [
    "import numpy as np\n",
    "import numpy.linalg as LA\n",
    "import matplotlib.pyplot as plt\n",
    "from matplotlib import cm\n",
    "from matplotlib.ticker import MultipleLocator\n",
    "from itertools import product as prod\n",
    "from __class_PhononConfig import TwistedRealspacePhonon\n",
    "from pymatgen.io.vasp.inputs import Poscar\n",
    "import matplotlib\n",
    "%matplotlib inline"
   ]
  },
  {
   "cell_type": "code",
   "execution_count": 51,
   "metadata": {},
   "outputs": [],
   "source": [
    "matplotlib.rcParams['mathtext.fontset'] = 'stix'\n",
    "matplotlib.rcParams['font.family'] = 'STIXGeneral'\n",
    "FONT_SIZE = 20\n",
    "TITLE_SIZE = 20"
   ]
  },
  {
   "cell_type": "markdown",
   "metadata": {},
   "source": [
    "## MoS2-0"
   ]
  },
  {
   "cell_type": "code",
   "execution_count": 52,
   "metadata": {},
   "outputs": [
    {
     "name": "stdout",
     "output_type": "stream",
     "text": [
      "101 angles from 0.01 to 10.0\n",
      "Dataset shape: (101, 61)\n",
      "Phonons shape: (101, 2, 61, 1521, 3)\n",
      "Number of modes: 61\n"
     ]
    }
   ],
   "source": [
    "ROOT = '/Users/jonathanlu/Documents'\n",
    "DIRNAME = \"tvMoS2\"\n",
    "THSPC_DIR = \"theta\"\n",
    "\n",
    "# Change as necessary\n",
    "M1_th_min, M1_th_max, M1_ntheta = np.loadtxt(f\"{ROOT}/{DIRNAME}/theta.txt\")\n",
    "M1_ntheta = int(M1_ntheta)\n",
    "KPT = 'Gamma'\n",
    "print(f\"{M1_ntheta} angles from {M1_th_min} to {M1_th_max}\")\n",
    "\n",
    "# Import dataset from the directory\n",
    "log_name = r'$\\Gamma$' if KPT == 'Gamma' else KPT\n",
    "path = f'{ROOT}/{DIRNAME}/{THSPC_DIR}/{KPT}/thspc_modes.npy'\n",
    "ppath = f'{ROOT}/{DIRNAME}/{THSPC_DIR}/{KPT}/thspc_phonons.npy'\n",
    "M1_phonons = np.load(ppath)\n",
    "poscars_uc = [Poscar.from_file(f'{ROOT}/{DIRNAME}/POSCAR_LAYER{i+1}') for i in range(2)]\n",
    "M1_dataset = np.load(path)\n",
    "M1_nmodes = M1_dataset.shape[1]\n",
    "print(\"Dataset shape:\", M1_dataset.shape)\n",
    "print(\"Phonons shape:\", M1_phonons.shape)\n",
    "print(\"Number of modes:\", M1_nmodes)\n",
    "M1_rssz = M1_phonons.shape[-2]\n",
    "M1_thetas = np.linspace(M1_th_min, M1_th_max, M1_ntheta)"
   ]
  },
  {
   "cell_type": "code",
   "execution_count": 53,
   "metadata": {},
   "outputs": [],
   "source": [
    "# Find indices of LB modes, manually\n",
    "M1_LB1_idxs = np.load(f'{ROOT}/{DIRNAME}/{THSPC_DIR}/data/MoS2_LB1_idxs.npy')\n",
    "\n",
    "M1_LB2_idxs = np.zeros(M1_ntheta).astype(int)\n",
    "M1_LB2_idxs[23:] = 23\n",
    "M1_LB2_idxs[22:23] = 29\n",
    "M1_LB2_idxs[:22] = 35\n",
    "\n",
    "M1_LB3_idxs = np.zeros(M1_ntheta).astype(int)\n",
    "M1_LB3_idxs[58:] = 27\n",
    "M1_LB3_idxs[25:58] = 29\n",
    "M1_LB3_idxs[24:25] = 35\n",
    "M1_LB3_idxs[:24] = 41\n",
    "\n",
    "np.save(f'{ROOT}/{DIRNAME}/{THSPC_DIR}/data/MoS2_LB2_idxs.npy', M1_LB2_idxs)\n",
    "np.save(f'{ROOT}/{DIRNAME}/{THSPC_DIR}/data/MoS2_LB3_idxs.npy', M1_LB3_idxs)\n",
    "\n",
    "# Extract the mode list from the indices\n",
    "M1_LB1_modes = np.zeros(M1_ntheta)\n",
    "M1_LB2_modes = np.zeros(M1_ntheta)\n",
    "M1_LB3_modes = np.zeros(M1_ntheta)\n",
    "M1_LB1_phonons = np.zeros((M1_ntheta, 2, M1_rssz))\n",
    "M1_LB2_phonons = np.zeros((M1_ntheta, 2, M1_rssz))\n",
    "M1_LB3_phonons = np.zeros((M1_ntheta, 2, M1_rssz))\n",
    "\n",
    "for i in range(M1_ntheta):\n",
    "    M1_LB1_modes[i] = M1_dataset[i, M1_LB1_idxs[i]]\n",
    "    M1_LB2_modes[i] = M1_dataset[i, M1_LB2_idxs[i]]\n",
    "    M1_LB3_modes[i] = M1_dataset[i, M1_LB3_idxs[i]]\n",
    "    \n",
    "    M1_LB1_phonons[i] = M1_phonons[i, :, M1_LB1_idxs[i], :, -1]\n",
    "    M1_LB2_phonons[i] = M1_phonons[i, :, M1_LB2_idxs[i], :, -1]\n",
    "    M1_LB3_phonons[i] = M1_phonons[i, :, M1_LB3_idxs[i], :, -1]\n",
    "\n",
    "np.save(f'{ROOT}/{DIRNAME}/{THSPC_DIR}/data/MoS2_LB2_modes.npy', M1_LB2_modes)\n",
    "np.save(f'{ROOT}/{DIRNAME}/{THSPC_DIR}/data/MoS2_LB3_modes.npy', M1_LB3_modes)"
   ]
  },
  {
   "cell_type": "code",
   "execution_count": 54,
   "metadata": {},
   "outputs": [],
   "source": [
    "# Compute the proportion of positive and negative modes\n",
    "M1_plus_1 = np.mean(M1_LB1_phonons > 0, axis=-1).T\n",
    "M1_minus_1 = np.mean(M1_LB1_phonons < 0, axis=-1).T\n",
    "M1_plus_2 = np.mean(M1_LB2_phonons > 0, axis=-1).T\n",
    "M1_minus_2 = np.mean(M1_LB2_phonons < 0, axis=-1).T\n",
    "M1_plus_3 = np.mean(M1_LB3_phonons > 0, axis=-1).T\n",
    "M1_minus_3 = np.mean(M1_LB3_phonons < 0, axis=-1).T\n",
    "\n",
    "# Take the \"best\" proportion of the two configurations\n",
    "M1_breath_score_1 = np.max([M1_plus_1[0] + M1_minus_1[1], M1_plus_1[1] + M1_minus_1[0]], axis=0) / 2\n",
    "M1_breath_score_2 = np.max([M1_plus_2[0] + M1_minus_2[1], M1_plus_2[1] + M1_minus_2[0]], axis=0) / 2\n",
    "M1_breath_score_3 = np.max([M1_plus_3[0] + M1_minus_3[1], M1_plus_3[1] + M1_minus_3[0]], axis=0) / 2"
   ]
  },
  {
   "cell_type": "code",
   "execution_count": 65,
   "metadata": {},
   "outputs": [
    {
     "data": {
      "image/png": "[encoded data removed]",
      "text/plain": [
       "<Figure size 432x288 with 1 Axes>"
      ]
     },
     "metadata": {
      "needs_background": "light"
     },
     "output_type": "display_data"
    }
   ],
   "source": [
    "# Plot LB modes\n",
    "fig, ax = plt.subplots()\n",
    "plt.rc('font', size=13)\n",
    "plt.set_cmap('Spectral')\n",
    "\n",
    "M1_scores = [M1_breath_score_2[1:], M1_breath_score_3[1:]]\n",
    "M1_min_, M1_max_ = min(0.5, np.min(M1_scores)), np.max(M1_scores)\n",
    "ax.plot(M1_thetas[1:], M1_LB1_modes[1:], c='darkgrey')\n",
    "S2 = ax.scatter(M1_thetas[1:], M1_LB2_modes[1:], \n",
    "                c=M1_breath_score_2[1:], edgecolor='none', s=10)\n",
    "S2.set_clim(M1_min_, M1_max_)\n",
    "S3 = ax.scatter(M1_thetas[1:], M1_LB3_modes[1:], \n",
    "                c=M1_breath_score_3[1:], edgecolor='none', s=10)\n",
    "S3.set_clim(M1_min_, M1_max_)\n",
    "\n",
    "plt.text(8.5, 57, r'LB$_3$', fontsize=FONT_SIZE)\n",
    "plt.text(8.8, 43, r'LB$_2$', fontsize=FONT_SIZE)\n",
    "plt.text(3, 29, r'LB$_3$', fontsize=FONT_SIZE)\n",
    "plt.text(3, 38, r'LB$_2$', fontsize=FONT_SIZE)\n",
    "plt.text(8.8, 27, r'LB$_1$', fontsize=FONT_SIZE)\n",
    "plt.yticks(fontsize=FONT_SIZE)\n",
    "\n",
    "# cb = fig.colorbar(S2, ax=ax, ticks=np.linspace(0.4, 1, 7))\n",
    "# plt.xlabel(r'$\\theta$ ($^\\circ$)')\n",
    "# plt.ylabel(r'$\\omega$ $(cm^{-1})$', fontsize=TITLE_SIZE)\n",
    "plt.xlim((0, M1_th_max))\n",
    "plt.xticks(np.arange(10+1), fontsize=FONT_SIZE)\n",
    "ax.xaxis.set_major_locator(MultipleLocator(1))\n",
    "ax.xaxis.set_minor_locator(MultipleLocator(0.5))\n",
    "ax.yaxis.set_major_locator(MultipleLocator(15))\n",
    "props = dict(boxstyle='round', facecolor='lightblue', alpha=1)\n",
    "# ax.set_title(r\"MoS$_2$\", fontsize=TITLE_SIZE)\n",
    "plt.savefig(\"/Users/jonathanlu/Documents/data_mlph/MoS2_transition.pdf\", bbox_inches='tight')\n",
    "plt.show()"
   ]
  },
  {
   "cell_type": "markdown",
   "metadata": {},
   "source": [
    "### Discussion\n",
    "If we look at the modes atom by atom in `thspc_finder.ipynb` everything is moving coherently within each layer, but the Sulfurs also obtain some divergence at the non-LB regions. At the LB regions it looks like perfect breathing."
   ]
  },
  {
   "cell_type": "markdown",
   "metadata": {},
   "source": [
    "## Gr"
   ]
  },
  {
   "cell_type": "code",
   "execution_count": 56,
   "metadata": {},
   "outputs": [
    {
     "name": "stdout",
     "output_type": "stream",
     "text": [
      "101 angles from 0.01 to 10.0\n",
      "Dataset shape: (101, 61)\n",
      "Phonons shape: (101, 2, 61, 1521, 3)\n",
      "Number of modes: 61\n"
     ]
    }
   ],
   "source": [
    "DIRNAME = \"tvGr\"\n",
    "\n",
    "# Change as necessary\n",
    "M2_th_min, M2_th_max, M2_ntheta = np.loadtxt(f\"{ROOT}/{DIRNAME}/theta.txt\")\n",
    "M2_ntheta = int(M2_ntheta)\n",
    "KPT = 'Gamma'\n",
    "print(f\"{M2_ntheta} angles from {M2_th_min} to {M2_th_max}\")\n",
    "\n",
    "# Import dataset from the directory\n",
    "log_name = r'$\\Gamma$' if KPT == 'Gamma' else KPT\n",
    "path = f'{ROOT}/{DIRNAME}/{THSPC_DIR}/{KPT}/thspc_modes.npy'\n",
    "ppath = f'{ROOT}/{DIRNAME}/{THSPC_DIR}/{KPT}/thspc_phonons.npy'\n",
    "M2_phonons = np.load(ppath)\n",
    "poscars_uc = [Poscar.from_file(f'{ROOT}/{DIRNAME}/POSCAR_LAYER{i+1}') for i in range(2)]\n",
    "M2_dataset = np.load(path)\n",
    "M2_nmodes = M2_dataset.shape[1]\n",
    "print(\"Dataset shape:\", M2_dataset.shape)\n",
    "print(\"Phonons shape:\", M2_phonons.shape)\n",
    "print(\"Number of modes:\", M2_nmodes)\n",
    "M2_rssz = M2_phonons.shape[-2]\n",
    "M2_thetas = np.linspace(M2_th_min, M2_th_max, M2_ntheta)"
   ]
  },
  {
   "cell_type": "code",
   "execution_count": 57,
   "metadata": {},
   "outputs": [],
   "source": [
    "# Find indices of LB modes, manually\n",
    "M2_LB1_idxs = np.load(f'{ROOT}/{DIRNAME}/{THSPC_DIR}/data/Gr_LB1_idxs.npy')\n",
    "\n",
    "M2_LB2_idxs = np.zeros(M2_ntheta).astype(int)\n",
    "M2_LB2_idxs[91:] = 15\n",
    "M2_LB2_idxs[21:91] = 17\n",
    "M2_LB2_idxs[14:21] = 23\n",
    "M2_LB2_idxs[:14] = 35\n",
    "\n",
    "M2_LB3_idxs = np.zeros(M2_ntheta).astype(int)\n",
    "M2_LB3_idxs[53:] = 23\n",
    "M2_LB3_idxs[14:53] = 29\n",
    "M2_LB3_idxs[:14] = 41\n",
    "\n",
    "np.save(f'{ROOT}/{DIRNAME}/{THSPC_DIR}/data/Gr_LB2_idxs.npy', M2_LB2_idxs)\n",
    "np.save(f'{ROOT}/{DIRNAME}/{THSPC_DIR}/data/Gr_LB3_idxs.npy', M2_LB3_idxs)\n",
    "\n",
    "# Extract the mode list from the indices\n",
    "M2_LB1_modes = np.zeros(M2_ntheta)\n",
    "M2_LB2_modes = np.zeros(M2_ntheta)\n",
    "M2_LB3_modes = np.zeros(M2_ntheta)\n",
    "M2_LB1_phonons = np.zeros((M2_ntheta, 2, M2_rssz))\n",
    "M2_LB2_phonons = np.zeros((M2_ntheta, 2, M2_rssz))\n",
    "M2_LB3_phonons = np.zeros((M2_ntheta, 2, M2_rssz))\n",
    "\n",
    "for i in range(M2_ntheta):\n",
    "    M2_LB1_modes[i] = M2_dataset[i, M2_LB1_idxs[i]]\n",
    "    M2_LB2_modes[i] = M2_dataset[i, M2_LB2_idxs[i]]\n",
    "    M2_LB3_modes[i] = M2_dataset[i, M2_LB3_idxs[i]]\n",
    "    \n",
    "    M2_LB1_phonons[i] = M2_phonons[i, :, M2_LB1_idxs[i], :, -1]\n",
    "    M2_LB2_phonons[i] = M2_phonons[i, :, M2_LB2_idxs[i], :, -1]\n",
    "    M2_LB3_phonons[i] = M2_phonons[i, :, M2_LB3_idxs[i], :, -1]\n",
    "\n",
    "np.save(f'{ROOT}/{DIRNAME}/{THSPC_DIR}/data/Gr_LB2_modes.npy', M2_LB2_modes)\n",
    "np.save(f'{ROOT}/{DIRNAME}/{THSPC_DIR}/data/Gr_LB3_modes.npy', M2_LB3_modes)"
   ]
  },
  {
   "cell_type": "code",
   "execution_count": 58,
   "metadata": {},
   "outputs": [],
   "source": [
    "# Compute the proportion of positive and negative modes\n",
    "M2_plus_1 = np.mean(M2_LB1_phonons > 0, axis=-1).T\n",
    "M2_minus_1 = np.mean(M2_LB1_phonons < 0, axis=-1).T\n",
    "M2_plus_2 = np.mean(M2_LB2_phonons > 0, axis=-1).T\n",
    "M2_minus_2 = np.mean(M2_LB2_phonons < 0, axis=-1).T\n",
    "M2_plus_3 = np.mean(M2_LB3_phonons > 0, axis=-1).T\n",
    "M2_minus_3 = np.mean(M2_LB3_phonons < 0, axis=-1).T\n",
    "\n",
    "# Take the \"best\" proportion of the two configurations\n",
    "M2_breath_score_1 = np.max([M2_plus_1[0] + M2_minus_1[1], M2_plus_1[1] + M2_minus_1[0]], axis=0) / 2\n",
    "M2_breath_score_2 = np.max([M2_plus_2[0] + M2_minus_2[1], M2_plus_2[1] + M2_minus_2[0]], axis=0) / 2\n",
    "M2_breath_score_3 = np.max([M2_plus_3[0] + M2_minus_3[1], M2_plus_3[1] + M2_minus_3[0]], axis=0) / 2"
   ]
  },
  {
   "cell_type": "code",
   "execution_count": 68,
   "metadata": {},
   "outputs": [
    {
     "data": {
      "image/png": "[encoded data removed]",
      "text/plain": [
       "<Figure size 432x288 with 1 Axes>"
      ]
     },
     "metadata": {
      "needs_background": "light"
     },
     "output_type": "display_data"
    }
   ],
   "source": [
    "# Plot LB modes\n",
    "fig, ax = plt.subplots()\n",
    "plt.rc('font', size=13)\n",
    "plt.set_cmap('Spectral')\n",
    "\n",
    "M2_scores = [M2_breath_score_2[1:], M2_breath_score_3[1:]]\n",
    "M2_min_, M2_max_ = min(0.5, np.min(M2_scores)), np.max(M2_scores)\n",
    "ax.plot(M2_thetas[1:], M2_LB1_modes[1:], c='darkgrey')\n",
    "S2 = ax.scatter(M2_thetas[1:], M2_LB2_modes[1:], \n",
    "                c=M2_breath_score_2[1:], edgecolor='none', s=10)\n",
    "S2.set_clim(M2_min_, M2_max_)\n",
    "S3 = ax.scatter(M2_thetas[1:], M2_LB3_modes[1:], \n",
    "                c=M2_breath_score_3[1:], edgecolor='none', s=10)\n",
    "S3.set_clim(M2_min_, M2_max_)\n",
    "\n",
    "plt.text(7.5, 325, r'LB$_3$', fontsize=FONT_SIZE)\n",
    "plt.text(8.25, 125, r'LB$_2$', fontsize=FONT_SIZE)\n",
    "plt.text(8.8, 50, r'LB$_1$', fontsize=FONT_SIZE)\n",
    "plt.yticks(fontsize=FONT_SIZE)\n",
    "\n",
    "ax.xaxis.set_major_locator(MultipleLocator(1))\n",
    "ax.xaxis.set_minor_locator(MultipleLocator(0.5))\n",
    "ax.yaxis.set_major_locator(MultipleLocator(80))\n",
    "props = dict(boxstyle='round', facecolor='lightblue', alpha=1)\n",
    "# ax.set_title(\"Gr\", fontsize=TITLE_SIZE)\n",
    "\n",
    "# cb = fig.colorbar(S2, ax=ax, ticks=np.linspace(0.4, 1, 7))\n",
    "# plt.title(r\"Analogous $\\theta$-dynamic LB modes of Gr at \" + log_name)\n",
    "# plt.xlabel(r'$\\theta$ ($^\\circ$)')\n",
    "# plt.ylabel(r'$\\omega$ $(cm^{-1})$')\n",
    "plt.xlim((0, M2_th_max))\n",
    "plt.xticks(np.arange(10+1),fontsize=FONT_SIZE)\n",
    "\n",
    "plt.savefig(\"/Users/jonathanlu/Documents/data_mlph/Gr_transition.pdf\", bbox_inches='tight')\n",
    "plt.show()"
   ]
  },
  {
   "cell_type": "markdown",
   "metadata": {},
   "source": [
    "### Discussion\n",
    "Unlike MoS2, there is no real transition happening in graphene. Instead, DLB1 breathes until it stops at ~2 degrees, at which point no one is really breathing. Note that the magnitude of DLB1 in the yellow region is close to 0, so it has negligible effect. Hence Gr does not have interesting high-LB dynamics."
   ]
  },
  {
   "cell_type": "markdown",
   "metadata": {},
   "source": [
    "## MoSe2-WSe2"
   ]
  },
  {
   "cell_type": "code",
   "execution_count": 60,
   "metadata": {},
   "outputs": [
    {
     "name": "stdout",
     "output_type": "stream",
     "text": [
      "101 angles from 0.01 to 10.0\n",
      "Dataset shape: (101, 61)\n",
      "Phonons shape: (101, 2, 61, 1521, 3)\n",
      "Number of modes: 61\n"
     ]
    }
   ],
   "source": [
    "DIRNAME = \"tvHet\"\n",
    "\n",
    "# Change as necessary\n",
    "M3_th_min, M3_th_max, M3_ntheta = np.loadtxt(f\"{ROOT}/{DIRNAME}/theta.txt\")\n",
    "M3_ntheta = int(M3_ntheta)\n",
    "KPT = 'Gamma'\n",
    "print(f\"{M3_ntheta} angles from {M3_th_min} to {M3_th_max}\")\n",
    "\n",
    "# Import dataset from the directory\n",
    "log_name = r'$\\Gamma$' if KPT == 'Gamma' else KPT\n",
    "path = f'{ROOT}/{DIRNAME}/{THSPC_DIR}/{KPT}/thspc_modes.npy'\n",
    "ppath = f'{ROOT}/{DIRNAME}/{THSPC_DIR}/{KPT}/thspc_phonons.npy'\n",
    "M3_phonons = np.load(ppath)\n",
    "poscars_uc = [Poscar.from_file(f'{ROOT}/{DIRNAME}/POSCAR_LAYER{i+1}') for i in range(2)]\n",
    "M3_dataset = np.load(path)\n",
    "M3_nmodes = M3_dataset.shape[1]\n",
    "print(\"Dataset shape:\", M3_dataset.shape)\n",
    "print(\"Phonons shape:\", M3_phonons.shape)\n",
    "print(\"Number of modes:\", M3_nmodes)\n",
    "M3_rssz = M3_phonons.shape[-2]\n",
    "M3_thetas = np.linspace(M3_th_min, M3_th_max, M3_ntheta)"
   ]
  },
  {
   "cell_type": "code",
   "execution_count": 61,
   "metadata": {},
   "outputs": [],
   "source": [
    "# Find indices of LB modes, manually\n",
    "M3_LB1_idxs = np.load(f'{ROOT}/{DIRNAME}/{THSPC_DIR}/data/Het_LB1_idxs.npy')\n",
    "M3_LB2_idxs = np.load(f'{ROOT}/{DIRNAME}/{THSPC_DIR}/data/Het_LB2_idxs.npy')\n",
    "\n",
    "M3_LB3_idxs = np.zeros(M3_ntheta).astype(int)\n",
    "M3_LB3_idxs[38:] = 15\n",
    "M3_LB3_idxs[37:38] = 17\n",
    "M3_LB3_idxs[34:37] = 21\n",
    "M3_LB3_idxs[33:34] = 23 # 21 ?\n",
    "M3_LB3_idxs[28:33] = 23\n",
    "M3_LB3_idxs[28:29] = 29 # 23 ?\n",
    "M3_LB3_idxs[25:28] = 29\n",
    "M3_LB3_idxs[:25] = 35\n",
    "\n",
    "M3_LB4_idxs = np.zeros(M3_ntheta).astype(int)\n",
    "M3_LB4_idxs[35:] = 29\n",
    "M3_LB4_idxs[34:35] = 29 # 35 ?\n",
    "M3_LB4_idxs[28:34] = 35 \n",
    "M3_LB4_idxs[:28] = 41\n",
    "\n",
    "np.save(f'{ROOT}/{DIRNAME}/{THSPC_DIR}/data/Het_LB3_idxs.npy', M3_LB3_idxs)\n",
    "np.save(f'{ROOT}/{DIRNAME}/{THSPC_DIR}/data/Het_LB4_idxs.npy', M3_LB4_idxs)\n",
    "\n",
    "# Extract the mode list from the indices\n",
    "M3_LB1_modes = np.zeros(M3_ntheta)\n",
    "M3_LB2_modes = np.zeros(M3_ntheta)\n",
    "M3_LB3_modes = np.zeros(M3_ntheta)\n",
    "M3_LB4_modes = np.zeros(M3_ntheta)\n",
    "M3_LB1_phonons = np.zeros((M3_ntheta, 2, M3_rssz))\n",
    "M3_LB2_phonons = np.zeros((M3_ntheta, 2, M3_rssz))\n",
    "M3_LB3_phonons = np.zeros((M3_ntheta, 2, M3_rssz))\n",
    "M3_LB4_phonons = np.zeros((M3_ntheta, 2, M3_rssz))\n",
    "\n",
    "for i in range(M3_ntheta):\n",
    "    M3_LB1_modes[i] = M3_dataset[i, M3_LB1_idxs[i]]\n",
    "    M3_LB2_modes[i] = M3_dataset[i, M3_LB2_idxs[i]]\n",
    "    M3_LB3_modes[i] = M3_dataset[i, M3_LB3_idxs[i]]\n",
    "    M3_LB4_modes[i] = M3_dataset[i, M3_LB4_idxs[i]]\n",
    "    \n",
    "    M3_LB1_phonons[i] = M3_phonons[i, :, M3_LB1_idxs[i], :, -1]\n",
    "    M3_LB2_phonons[i] = M3_phonons[i, :, M3_LB2_idxs[i], :, -1]\n",
    "    M3_LB3_phonons[i] = M3_phonons[i, :, M3_LB3_idxs[i], :, -1]\n",
    "    M3_LB4_phonons[i] = M3_phonons[i, :, M3_LB4_idxs[i], :, -1]\n",
    "\n",
    "np.save(f'{ROOT}/{DIRNAME}/{THSPC_DIR}/data/Het_LB3_modes.npy', M3_LB3_modes)\n",
    "np.save(f'{ROOT}/{DIRNAME}/{THSPC_DIR}/data/Het_LB4_modes.npy', M3_LB4_modes)"
   ]
  },
  {
   "cell_type": "code",
   "execution_count": 62,
   "metadata": {},
   "outputs": [],
   "source": [
    "# Compute the proportion of positive and negative modes\n",
    "M3_plus_3 = np.mean(M3_LB3_phonons > 0, axis=-1).T\n",
    "M3_minus_3 = np.mean(M3_LB3_phonons < 0, axis=-1).T\n",
    "M3_plus_4 = np.mean(M3_LB4_phonons > 0, axis=-1).T\n",
    "M3_minus_4 = np.mean(M3_LB4_phonons < 0, axis=-1).T\n",
    "\n",
    "# Take the \"best\" proportion of the two configurations\n",
    "M3_breath_score_3 = np.max([M3_plus_3[0] + M3_minus_3[1], M3_plus_3[1] + M3_minus_3[0]], axis=0) / 2\n",
    "M3_breath_score_4 = np.max([M3_plus_4[0] + M3_minus_4[1], M3_plus_4[1] + M3_minus_4[0]], axis=0) / 2"
   ]
  },
  {
   "cell_type": "code",
   "execution_count": 70,
   "metadata": {},
   "outputs": [
    {
     "data": {
      "image/png": "[encoded data removed]",
      "text/plain": [
       "<Figure size 432x288 with 1 Axes>"
      ]
     },
     "metadata": {
      "needs_background": "light"
     },
     "output_type": "display_data"
    }
   ],
   "source": [
    "# Plot LB modes\n",
    "fig, ax = plt.subplots()\n",
    "plt.rc('font', size=13)\n",
    "plt.set_cmap('Spectral')\n",
    "\n",
    "M3_scores = [M3_breath_score_3[1:], M3_breath_score_4[1:]]\n",
    "M3_min_, M3_max_ = min(0.5, np.min(M3_scores)), np.max(M3_scores)\n",
    "\n",
    "ax.plot(M3_thetas[1:], M3_LB1_modes[1:], c='darkgrey')\n",
    "ax.plot(M3_thetas[1:], M3_LB2_modes[1:], c='black')\n",
    "\n",
    "S3 = ax.scatter(M3_thetas[1:], M3_LB3_modes[1:], \n",
    "                c=M3_breath_score_3[1:], edgecolor='none', s=10)\n",
    "S3.set_clim(M3_min_, M3_max_)\n",
    "S4 = ax.scatter(M3_thetas[1:], M3_LB4_modes[1:], \n",
    "                c=M3_breath_score_4[1:], edgecolor='none', s=10)\n",
    "S4.set_clim(M3_min_, M3_max_)\n",
    "\n",
    "plt.text(8, 67, r'LB$_3$', fontsize=FONT_SIZE)\n",
    "plt.text(7.25, 36, r'LB$_2$', fontsize=FONT_SIZE)\n",
    "plt.text(8.7, 26.5, r'LB$_1$', fontsize=FONT_SIZE)\n",
    "plt.text(8.35, 48, r'SBLB', fontsize=FONT_SIZE)\n",
    "\n",
    "# cb = fig.colorbar(S2, ax=ax, ticks=np.linspace(0.4, 1, 7))\n",
    "# cb.ax.tick_params(labelsize=FONT_SIZE) \n",
    "plt.yticks(fontsize=FONT_SIZE)\n",
    "plt.xlim((0, M3_th_max))\n",
    "plt.xticks(np.arange(10+1), fontsize=FONT_SIZE)\n",
    "ax.xaxis.set_major_locator(MultipleLocator(1))\n",
    "ax.xaxis.set_minor_locator(MultipleLocator(0.5))\n",
    "ax.yaxis.set_major_locator(MultipleLocator(20))\n",
    "props = dict(boxstyle='round', facecolor='lightblue', alpha=1)\n",
    "# ax.set_title(r\"MoSe$_2$-WSe$_2$\", fontsize=TITLE_SIZE)\n",
    "\n",
    "plt.savefig(\"/Users/jonathanlu/Documents/data_mlph/Het_transition.pdf\", bbox_inches='tight')\n",
    "plt.show()"
   ]
  },
  {
   "cell_type": "code",
   "execution_count": null,
   "metadata": {},
   "outputs": [],
   "source": []
  }
 ],
 "metadata": {
  "interpreter": {
   "hash": "d6de9be78b6020e3c4b915c697ec9df5423262584917bd5f64c63e56f57b2ea4"
  },
  "kernelspec": {
   "display_name": "Python 3.7.7 ('base')",
   "language": "python",
   "name": "python3"
  },
  "language_info": {
   "codemirror_mode": {
    "name": "ipython",
    "version": 3
   },
   "file_extension": ".py",
   "mimetype": "text/x-python",
   "name": "python",
   "nbconvert_exporter": "python",
   "pygments_lexer": "ipython3",
   "version": "3.7.7"
  },
  "orig_nbformat": 4
 },
 "nbformat": 4,
 "nbformat_minor": 2
}
