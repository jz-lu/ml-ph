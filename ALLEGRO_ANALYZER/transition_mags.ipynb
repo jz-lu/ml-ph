{
 "cells": [
  {
   "cell_type": "markdown",
   "metadata": {},
   "source": [
    "# Higher energy LB magnitudes"
   ]
  },
  {
   "cell_type": "code",
   "execution_count": 15,
   "metadata": {},
   "outputs": [],
   "source": [
    "import numpy as np\n",
    "import numpy.linalg as LA\n",
    "import matplotlib.pyplot as plt\n",
    "from matplotlib.ticker import MultipleLocator\n",
    "from matplotlib import cm\n",
    "import matplotlib\n",
    "from itertools import product as prod\n",
    "from __class_PhononConfig import TwistedRealspacePhonon\n",
    "from pymatgen.io.vasp.inputs import Poscar\n",
    "%matplotlib inline"
   ]
  },
  {
   "cell_type": "code",
   "execution_count": 16,
   "metadata": {},
   "outputs": [],
   "source": [
    "CUT = 2\n",
    "matplotlib.rcParams['mathtext.fontset'] = 'stix'\n",
    "matplotlib.rcParams['font.family'] = 'STIXGeneral'\n",
    "FONT_SIZE = 16\n",
    "TITLE_SIZE = 20"
   ]
  },
  {
   "cell_type": "markdown",
   "metadata": {},
   "source": [
    "## MoS2-0"
   ]
  },
  {
   "cell_type": "code",
   "execution_count": 17,
   "metadata": {},
   "outputs": [
    {
     "name": "stdout",
     "output_type": "stream",
     "text": [
      "Mass average: 53.35666666666666\n",
      "101 angles from 0.01 to 10.0\n",
      "Dataset shape: (101, 61, 1521, 3)\n",
      "Number of modes: 61\n"
     ]
    }
   ],
   "source": [
    "ROOT = '/Users/jonathanlu/Documents'\n",
    "DIRNAME = \"tvMoS2\"\n",
    "THSPC_DIR = \"theta\"\n",
    "KPT = 'Gamma'\n",
    "\n",
    "# Change as necessary\n",
    "M1_th_min, M1_th_max, M1_ntheta = np.loadtxt(f\"{ROOT}/{DIRNAME}/theta.txt\")\n",
    "M1_ntheta = int(M1_ntheta)\n",
    "M1_mass = np.mean(np.load(f'{ROOT}/{DIRNAME}/{THSPC_DIR}/{KPT}/masses.npy'))\n",
    "print(f\"Mass average: {M1_mass}\")\n",
    "print(f\"{M1_ntheta} angles from {M1_th_min} to {M1_th_max}\")\n",
    "\n",
    "# Import dataset from the directory\n",
    "log_name = r'$\\Gamma$' if KPT == 'Gamma' else KPT\n",
    "path = f'{ROOT}/{DIRNAME}/{THSPC_DIR}/{KPT}/thspc_mags.npy'\n",
    "ppath = f'{ROOT}/{DIRNAME}/{THSPC_DIR}/{KPT}/thspc_phonons.npy'\n",
    "poscars_uc = [Poscar.from_file(f'{ROOT}/{DIRNAME}/POSCAR_LAYER{i+1}') for i in range(2)]\n",
    "M1_dataset = np.load(path) * np.sqrt(M1_mass)\n",
    "M1_phonons = np.load(ppath)\n",
    "M1_nmodes = M1_dataset.shape[1]\n",
    "print(\"Dataset shape:\", M1_dataset.shape)\n",
    "print(\"Number of modes:\", M1_nmodes)\n",
    "M1_thetas = np.linspace(M1_th_min, M1_th_max, M1_ntheta)"
   ]
  },
  {
   "cell_type": "code",
   "execution_count": 18,
   "metadata": {},
   "outputs": [],
   "source": [
    "M1_mean_umag = np.mean(LA.norm(M1_dataset, axis=-1), axis=2)\n",
    "M1_max_umag = np.quantile(LA.norm(M1_dataset, axis=-1), 0.75, axis=2)\n",
    "M1_min_umag = np.quantile(LA.norm(M1_dataset, axis=-1), 0.25, axis=2)\n",
    "M1_mean_uz = np.mean(M1_dataset[:,:,:,-1], axis=2)\n",
    "M1_max_uz = np.quantile(M1_dataset[:,:,:,-1], 0.75, axis=2)\n",
    "M1_min_uz = np.quantile(M1_dataset[:,:,:,-1], 0.25, axis=2)"
   ]
  },
  {
   "cell_type": "code",
   "execution_count": 19,
   "metadata": {},
   "outputs": [],
   "source": [
    "# Import the indices and extract the modes\n",
    "M1_LB2_idxs = np.load(f'{ROOT}/{DIRNAME}/{THSPC_DIR}/data/MoS2_LB2_idxs.npy')\n",
    "M1_LB3_idxs = np.load(f'{ROOT}/{DIRNAME}/{THSPC_DIR}/data/MoS2_LB3_idxs.npy')\n",
    "\n",
    "M1_LB2_max = np.zeros(M1_ntheta)\n",
    "M1_LB2_min = np.zeros(M1_ntheta)\n",
    "M1_LB2_mean = np.zeros(M1_ntheta)\n",
    "M1_LB3_max = np.zeros(M1_ntheta)\n",
    "M1_LB3_min = np.zeros(M1_ntheta)\n",
    "M1_LB3_mean = np.zeros(M1_ntheta)\n",
    "\n",
    "for i in range(M1_ntheta):\n",
    "    M1_LB2_max[i] = M1_max_umag[i, M1_LB2_idxs[i]]\n",
    "    M1_LB2_min[i] = M1_min_umag[i, M1_LB2_idxs[i]]\n",
    "    M1_LB2_mean[i] = M1_mean_umag[i, M1_LB2_idxs[i]]\n",
    "    \n",
    "    M1_LB3_max[i] = M1_max_umag[i, M1_LB3_idxs[i]]\n",
    "    M1_LB3_min[i] = M1_min_umag[i, M1_LB3_idxs[i]]\n",
    "    M1_LB3_mean[i] = M1_mean_umag[i, M1_LB3_idxs[i]]"
   ]
  },
  {
   "cell_type": "code",
   "execution_count": 20,
   "metadata": {},
   "outputs": [
    {
     "data": {
      "text/plain": [
       "<Figure size 432x288 with 0 Axes>"
      ]
     },
     "metadata": {},
     "output_type": "display_data"
    },
    {
     "data": {
      "image/png": "[encoded data removed]",
      "text/plain": [
       "<Figure size 432x288 with 1 Axes>"
      ]
     },
     "metadata": {
      "needs_background": "light"
     },
     "output_type": "display_data"
    }
   ],
   "source": [
    "plt.clf()\n",
    "plt.rc('font', size=13)\n",
    "_, ax = plt.subplots()\n",
    "ax.set_xlabel(r'$\\theta$ ($^\\circ$)', fontsize=TITLE_SIZE)\n",
    "# ax.set_ylabel(r'Average Magnitude ($\\mathrm{\\AA}$)', fontsize=TITLE_SIZE)\n",
    "\n",
    "# MoS2-0\n",
    "ax.plot(M1_thetas[CUT:], M1_LB2_mean[CUT:], color='cornflowerblue', label=r'LB$_3$')\n",
    "ax.fill_between(M1_thetas[CUT:], M1_LB2_min[CUT:], M1_LB2_max[CUT:], color='cornflowerblue', alpha=0.25)\n",
    "ax.plot(M1_thetas[CUT:], M1_LB3_mean[CUT:], color='firebrick', label=r'LB$_2$')\n",
    "ax.fill_between(M1_thetas[CUT:], M1_LB3_min[CUT:], M1_LB3_max[CUT:], color='firebrick', alpha=0.25)\n",
    "\n",
    "ax.xaxis.set_major_locator(MultipleLocator(1))\n",
    "ax.xaxis.set_minor_locator(MultipleLocator(0.5))\n",
    "ax.legend(loc='lower left', fontsize=FONT_SIZE)\n",
    "ax.set_yscale(\"log\")\n",
    "plt.xlim((0,10))\n",
    "plt.xticks(np.arange(10+1))\n",
    "plt.yticks(fontsize=FONT_SIZE)\n",
    "plt.xticks(fontsize=FONT_SIZE)\n",
    "plt.savefig(\"/Users/jonathanlu/Documents/data_mlph/MoS2_transition_mags.pdf\", bbox_inches='tight')\n",
    "plt.show()"
   ]
  },
  {
   "cell_type": "markdown",
   "metadata": {},
   "source": [
    "## Gr"
   ]
  },
  {
   "cell_type": "code",
   "execution_count": 7,
   "metadata": {},
   "outputs": [
    {
     "name": "stdout",
     "output_type": "stream",
     "text": [
      "Mass average: 12.0107\n",
      "101 angles from 0.01 to 10.0\n",
      "Dataset shape: (101, 61, 1521, 3)\n",
      "Number of modes: 61\n"
     ]
    }
   ],
   "source": [
    "DIRNAME = \"tvGr\" \n",
    "KPT = 'Gamma'\n",
    "\n",
    "# Change as necessary\n",
    "M2_th_min, M2_th_max, M2_ntheta = np.loadtxt(f\"{ROOT}/{DIRNAME}/theta.txt\")\n",
    "M2_ntheta = int(M2_ntheta)\n",
    "M2_mass = np.mean(np.load(f'{ROOT}/{DIRNAME}/{THSPC_DIR}/{KPT}/masses.npy'))\n",
    "print(f\"Mass average: {M2_mass}\")\n",
    "print(f\"{M2_ntheta} angles from {M2_th_min} to {M2_th_max}\")\n",
    "\n",
    "# Import dataset from the directory\n",
    "log_name = r'$\\Gamma$' if KPT == 'Gamma' else KPT\n",
    "path = f'{ROOT}/{DIRNAME}/{THSPC_DIR}/{KPT}/thspc_mags.npy'\n",
    "ppath = f'{ROOT}/{DIRNAME}/{THSPC_DIR}/{KPT}/thspc_phonons.npy'\n",
    "poscars_uc = [Poscar.from_file(f'{ROOT}/{DIRNAME}/POSCAR_LAYER{i+1}') for i in range(2)]\n",
    "M2_dataset = np.load(path) * np.sqrt(M1_mass)\n",
    "M2_phonons = np.load(ppath)\n",
    "M2_nmodes = M2_dataset.shape[1]\n",
    "print(\"Dataset shape:\", M2_dataset.shape)\n",
    "print(\"Number of modes:\", M2_nmodes)\n",
    "M2_thetas = np.linspace(M2_th_min, M2_th_max, M2_ntheta)"
   ]
  },
  {
   "cell_type": "code",
   "execution_count": 8,
   "metadata": {},
   "outputs": [],
   "source": [
    "M2_mean_umag = np.mean(LA.norm(M2_dataset, axis=-1), axis=2)\n",
    "M2_max_umag = np.quantile(LA.norm(M2_dataset, axis=-1), 0.75, axis=2)\n",
    "M2_min_umag = np.quantile(LA.norm(M2_dataset, axis=-1), 0.25, axis=2)\n",
    "M2_max_uz = np.quantile(M2_dataset[:,:,:,-1], 0.75, axis=2)\n",
    "M2_min_uz = np.quantile(M2_dataset[:,:,:,-1], 0.25, axis=2)\n",
    "M2_mean_uz = np.mean(M2_dataset[:,:,:,-1], axis=2)"
   ]
  },
  {
   "cell_type": "code",
   "execution_count": 9,
   "metadata": {},
   "outputs": [],
   "source": [
    "# Import the indices and extract the modes\n",
    "M2_LB2_idxs = np.load(f'{ROOT}/{DIRNAME}/{THSPC_DIR}/data/Gr_LB2_idxs.npy')\n",
    "M2_LB3_idxs = np.load(f'{ROOT}/{DIRNAME}/{THSPC_DIR}/data/Gr_LB3_idxs.npy')\n",
    "\n",
    "M2_LB2_max = np.zeros(M2_ntheta)\n",
    "M2_LB2_min = np.zeros(M2_ntheta)\n",
    "M2_LB2_mean = np.zeros(M2_ntheta)\n",
    "\n",
    "M2_LB3_max = np.zeros(M2_ntheta)\n",
    "M2_LB3_min = np.zeros(M2_ntheta)\n",
    "M2_LB3_mean = np.zeros(M2_ntheta)\n",
    "\n",
    "for i in range(M2_ntheta):\n",
    "    M2_LB2_max[i] = M2_max_umag[i, M2_LB2_idxs[i]]\n",
    "    M2_LB2_min[i] = M2_min_umag[i, M2_LB2_idxs[i]]\n",
    "    M2_LB2_mean[i] = M2_mean_umag[i, M2_LB2_idxs[i]]\n",
    "    \n",
    "    M2_LB3_max[i] = M2_max_umag[i, M2_LB3_idxs[i]]\n",
    "    M2_LB3_min[i] = M2_min_umag[i, M2_LB3_idxs[i]]\n",
    "    M2_LB3_mean[i] = M2_mean_umag[i, M2_LB3_idxs[i]]"
   ]
  },
  {
   "cell_type": "code",
   "execution_count": 10,
   "metadata": {},
   "outputs": [
    {
     "data": {
      "text/plain": [
       "<Figure size 432x288 with 0 Axes>"
      ]
     },
     "metadata": {},
     "output_type": "display_data"
    },
    {
     "data": {
      "image/png": "[encoded data removed]",
      "text/plain": [
       "<Figure size 432x288 with 1 Axes>"
      ]
     },
     "metadata": {
      "needs_background": "light"
     },
     "output_type": "display_data"
    }
   ],
   "source": [
    "plt.clf()\n",
    "plt.rc('font', size=13)\n",
    "_, ax = plt.subplots()\n",
    "ax.set_xlabel(r'$\\theta$ ($^\\circ$)', fontsize=TITLE_SIZE)\n",
    "\n",
    "# MoS2-0\n",
    "ax.plot(M2_thetas[CUT:], M2_LB2_mean[CUT:], color='cornflowerblue', label=r'LB$_2$')\n",
    "ax.fill_between(M2_thetas[CUT:], M2_LB2_min[CUT:], M2_LB2_max[CUT:], color='cornflowerblue', alpha=0.25)\n",
    "ax.plot(M2_thetas[CUT:], M2_LB3_mean[CUT:], color='firebrick', label=r'LB$_3$')\n",
    "ax.fill_between(M2_thetas[CUT:], M2_LB3_min[CUT:], M2_LB3_max[CUT:], color='firebrick', alpha=0.25)\n",
    "ax.set_yscale(\"log\")\n",
    "ax.set_ylim(ax.get_ylim())\n",
    "plt.xticks(fontsize=FONT_SIZE)\n",
    "plt.yticks(fontsize=FONT_SIZE)\n",
    "\n",
    "ax.plot([5.2]*2, ax.get_ylim(), linestyle='--', color='grey')\n",
    "ax.text(5.3, 3.5e-4, r'5.2$^\\circ$', fontsize=FONT_SIZE)\n",
    "\n",
    "ax.xaxis.set_major_locator(MultipleLocator(1))\n",
    "ax.xaxis.set_minor_locator(MultipleLocator(0.5))\n",
    "plt.xlim((0,10))\n",
    "plt.xticks(np.arange(10+1))\n",
    "plt.savefig(\"/Users/jonathanlu/Documents/data_mlph/Gr_transition_mags.pdf\", bbox_inches='tight')\n",
    "plt.show()"
   ]
  },
  {
   "cell_type": "markdown",
   "metadata": {},
   "source": [
    "## MoSe2-WSe2"
   ]
  },
  {
   "cell_type": "code",
   "execution_count": 11,
   "metadata": {},
   "outputs": [
    {
     "name": "stdout",
     "output_type": "stream",
     "text": [
      "Mass average: 99.27\n",
      "101 angles from 0.01 to 10.0\n",
      "Dataset shape: (101, 61, 1521, 3)\n",
      "Number of modes: 61\n"
     ]
    }
   ],
   "source": [
    "DIRNAME = \"tvHet\" \n",
    "KPT = 'Gamma'\n",
    "\n",
    "# Change as necessary\n",
    "M3_th_min, M3_th_max, M3_ntheta = np.loadtxt(f\"{ROOT}/{DIRNAME}/theta.txt\")\n",
    "M3_ntheta = int(M3_ntheta)\n",
    "M3_mass = np.mean(np.load(f'{ROOT}/{DIRNAME}/{THSPC_DIR}/{KPT}/masses.npy'))\n",
    "print(f\"Mass average: {M3_mass}\")\n",
    "print(f\"{M3_ntheta} angles from {M3_th_min} to {M3_th_max}\")\n",
    "\n",
    "# Import dataset from the directory\n",
    "log_name = r'$\\Gamma$' if KPT == 'Gamma' else KPT\n",
    "path = f'{ROOT}/{DIRNAME}/{THSPC_DIR}/{KPT}/thspc_mags.npy'\n",
    "ppath = f'{ROOT}/{DIRNAME}/{THSPC_DIR}/{KPT}/thspc_phonons.npy'\n",
    "poscars_uc = [Poscar.from_file(f'{ROOT}/{DIRNAME}/POSCAR_LAYER{i+1}') for i in range(2)]\n",
    "M3_dataset = np.load(path) * np.sqrt(M3_mass)\n",
    "M3_phonons = np.load(ppath)\n",
    "M3_nmodes = M3_dataset.shape[1]\n",
    "print(\"Dataset shape:\", M3_dataset.shape)\n",
    "print(\"Number of modes:\", M3_nmodes)\n",
    "M3_thetas = np.linspace(M3_th_min, M3_th_max, M3_ntheta)"
   ]
  },
  {
   "cell_type": "code",
   "execution_count": 12,
   "metadata": {},
   "outputs": [],
   "source": [
    "M3_mean_umag = np.mean(LA.norm(M3_dataset, axis=-1), axis=2)\n",
    "M3_max_umag = np.quantile(LA.norm(M3_dataset, axis=-1), 0.75, axis=2)\n",
    "M3_min_umag = np.quantile(LA.norm(M3_dataset, axis=-1), 0.25, axis=2)\n",
    "M3_mean_umag = np.mean(LA.norm(M3_dataset, axis=-1), axis=2)\n",
    "M3_max_umag = np.quantile(LA.norm(M3_dataset, axis=-1), 0.75, axis=2)\n",
    "M3_min_umag = np.quantile(LA.norm(M3_dataset, axis=-1), 0.25, axis=2)"
   ]
  },
  {
   "cell_type": "code",
   "execution_count": 13,
   "metadata": {},
   "outputs": [],
   "source": [
    "# Import the indices and extract the modes\n",
    "M3_LB3_idxs = np.load(f'{ROOT}/{DIRNAME}/{THSPC_DIR}/data/Het_LB3_idxs.npy')\n",
    "M3_LB4_idxs = np.load(f'{ROOT}/{DIRNAME}/{THSPC_DIR}/data/Het_LB4_idxs.npy')\n",
    "\n",
    "M3_LB3_max = np.zeros(M3_ntheta)\n",
    "M3_LB3_min = np.zeros(M3_ntheta)\n",
    "M3_LB3_mean = np.zeros(M3_ntheta)\n",
    "M3_LB4_max = np.zeros(M3_ntheta)\n",
    "M3_LB4_min = np.zeros(M3_ntheta)\n",
    "M3_LB4_mean = np.zeros(M3_ntheta)\n",
    "\n",
    "for i in range(M3_ntheta):\n",
    "    M3_LB3_max[i] = M3_max_umag[i, M3_LB3_idxs[i]]\n",
    "    M3_LB3_min[i] = M3_min_umag[i, M3_LB3_idxs[i]]\n",
    "    M3_LB3_mean[i] = M3_mean_umag[i, M3_LB3_idxs[i]]\n",
    "    \n",
    "    M3_LB4_max[i] = M3_max_umag[i, M3_LB4_idxs[i]]\n",
    "    M3_LB4_min[i] = M3_min_umag[i, M3_LB4_idxs[i]]\n",
    "    M3_LB4_mean[i] = M3_mean_umag[i, M3_LB4_idxs[i]]"
   ]
  },
  {
   "cell_type": "code",
   "execution_count": 14,
   "metadata": {},
   "outputs": [
    {
     "data": {
      "text/plain": [
       "<Figure size 432x288 with 0 Axes>"
      ]
     },
     "metadata": {},
     "output_type": "display_data"
    },
    {
     "data": {
      "image/png": "[encoded data removed]",
      "text/plain": [
       "<Figure size 432x288 with 1 Axes>"
      ]
     },
     "metadata": {
      "needs_background": "light"
     },
     "output_type": "display_data"
    }
   ],
   "source": [
    "plt.clf()\n",
    "plt.rc('font', size=13)\n",
    "_, ax = plt.subplots()\n",
    "ax.set_xlabel(r'$\\theta$ ($^\\circ$)', fontsize=TITLE_SIZE-2)\n",
    "\n",
    "# MoS2-0\n",
    "ax.plot(M3_thetas[CUT:], M3_LB3_mean[CUT:], color='cornflowerblue', label=r'LB$_2$')\n",
    "ax.fill_between(M3_thetas[CUT:], M3_LB3_min[CUT:], M3_LB3_max[CUT:], color='cornflowerblue', alpha=0.25)\n",
    "ax.plot(M3_thetas[CUT:], M3_LB4_mean[CUT:], color='firebrick', label=r'LB$_3$')\n",
    "ax.fill_between(M3_thetas[CUT:], M3_LB4_min[CUT:], M3_LB4_max[CUT:], color='firebrick', alpha=0.25)\n",
    "ax.set_yscale(\"log\")\n",
    "ax.set_ylim(ax.get_ylim())\n",
    "plt.xticks(fontsize=FONT_SIZE)\n",
    "plt.yticks(fontsize=FONT_SIZE)\n",
    "\n",
    "ax.plot([2.9]*2, ax.get_ylim(), linestyle='--', color='grey')\n",
    "ax.text(3.0, 3.25e-3, r'2.9$^\\circ$', fontsize=FONT_SIZE)\n",
    "ax.plot([3.8]*2, ax.get_ylim(), linestyle='--', color='grey')\n",
    "ax.text(3.9, 3.25e-3, r'3.8$^\\circ$', fontsize=FONT_SIZE)\n",
    "\n",
    "ax.xaxis.set_major_locator(MultipleLocator(1))\n",
    "ax.xaxis.set_minor_locator(MultipleLocator(0.5))\n",
    "plt.xlim((0,10))\n",
    "plt.xticks(np.arange(10+1))\n",
    "plt.savefig(\"/Users/jonathanlu/Documents/data_mlph/Het_transition_mags.pdf\", bbox_inches='tight')\n",
    "plt.show()"
   ]
  },
  {
   "cell_type": "code",
   "execution_count": null,
   "metadata": {},
   "outputs": [],
   "source": []
  }
 ],
 "metadata": {
  "interpreter": {
   "hash": "d6de9be78b6020e3c4b915c697ec9df5423262584917bd5f64c63e56f57b2ea4"
  },
  "kernelspec": {
   "display_name": "Python 3.7.7 ('base')",
   "language": "python",
   "name": "python3"
  },
  "language_info": {
   "codemirror_mode": {
    "name": "ipython",
    "version": 3
   },
   "file_extension": ".py",
   "mimetype": "text/x-python",
   "name": "python",
   "nbconvert_exporter": "python",
   "pygments_lexer": "ipython3",
   "version": "3.7.7"
  },
  "orig_nbformat": 4
 },
 "nbformat": 4,
 "nbformat_minor": 2
}
