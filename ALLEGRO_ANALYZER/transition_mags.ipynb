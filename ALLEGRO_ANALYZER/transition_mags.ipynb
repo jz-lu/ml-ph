{
 "cells": [
  {
   "cell_type": "markdown",
   "metadata": {},
   "source": [
    "# Dynamic LB magnitudes"
   ]
  },
  {
   "cell_type": "code",
   "execution_count": 2,
   "metadata": {},
   "outputs": [],
   "source": [
    "import numpy as np\n",
    "import numpy.linalg as LA\n",
    "import matplotlib.pyplot as plt\n",
    "from matplotlib import cm\n",
    "from itertools import product as prod\n",
    "from __class_PhononConfig import TwistedRealspacePhonon\n",
    "from pymatgen.io.vasp.inputs import Poscar\n",
    "%matplotlib inline"
   ]
  },
  {
   "cell_type": "code",
   "execution_count": 3,
   "metadata": {},
   "outputs": [],
   "source": [
    "CUT = 2"
   ]
  },
  {
   "cell_type": "markdown",
   "metadata": {},
   "source": [
    "## MoS2-0"
   ]
  },
  {
   "cell_type": "code",
   "execution_count": 4,
   "metadata": {},
   "outputs": [
    {
     "name": "stdout",
     "output_type": "stream",
     "text": [
      "101 angles from 0.01 to 10.0\n",
      "Dataset shape: (101, 61, 1521, 3)\n",
      "Number of modes: 61\n"
     ]
    }
   ],
   "source": [
    "ROOT = '/Users/jonathanlu/Documents'\n",
    "DIRNAME = \"tvMoS2\"\n",
    "THSPC_DIR = \"theta\"\n",
    "\n",
    "# Change as necessary\n",
    "M1_th_min, M1_th_max, M1_ntheta = np.loadtxt(f\"{ROOT}/{DIRNAME}/theta.txt\")\n",
    "M1_ntheta = int(M1_ntheta)\n",
    "KPT = 'Gamma'\n",
    "print(f\"{M1_ntheta} angles from {M1_th_min} to {M1_th_max}\")\n",
    "\n",
    "# Import dataset from the directory\n",
    "log_name = r'$\\Gamma$' if KPT == 'Gamma' else KPT\n",
    "path = f'{ROOT}/{DIRNAME}/{THSPC_DIR}/{KPT}/thspc_mags.npy'\n",
    "ppath = f'{ROOT}/{DIRNAME}/{THSPC_DIR}/{KPT}/thspc_phonons.npy'\n",
    "poscars_uc = [Poscar.from_file(f'{ROOT}/{DIRNAME}/POSCAR_LAYER{i+1}') for i in range(2)]\n",
    "M1_dataset = np.load(path)\n",
    "M1_phonons = np.load(ppath)\n",
    "M1_nmodes = M1_dataset.shape[1]\n",
    "print(\"Dataset shape:\", M1_dataset.shape)\n",
    "print(\"Number of modes:\", M1_nmodes)\n",
    "M1_thetas = np.linspace(M1_th_min, M1_th_max, M1_ntheta)"
   ]
  },
  {
   "cell_type": "code",
   "execution_count": 5,
   "metadata": {},
   "outputs": [],
   "source": [
    "M1_mean_umag = np.mean(LA.norm(M1_dataset, axis=-1), axis=2)\n",
    "M1_max_umag = np.quantile(LA.norm(M1_dataset, axis=-1), 0.75, axis=2)\n",
    "M1_min_umag = np.quantile(LA.norm(M1_dataset, axis=-1), 0.25, axis=2)\n",
    "M1_mean_uz = np.mean(M1_dataset[:,:,:,-1], axis=2)\n",
    "M1_max_uz = np.quantile(M1_dataset[:,:,:,-1], 0.75, axis=2)\n",
    "M1_min_uz = np.quantile(M1_dataset[:,:,:,-1], 0.25, axis=2)"
   ]
  },
  {
   "cell_type": "code",
   "execution_count": 7,
   "metadata": {},
   "outputs": [],
   "source": [
    "# Import the indices and extract the modes\n",
    "M1_LB2_idxs = np.load(f'{ROOT}/{DIRNAME}/{THSPC_DIR}/data/MoS2_LB2_idxs.npy')\n",
    "M1_LB3_idxs = np.load(f'{ROOT}/{DIRNAME}/{THSPC_DIR}/data/MoS2_LB3_idxs.npy')\n",
    "\n",
    "M1_LB2_max = np.zeros(M1_ntheta)\n",
    "M1_LB2_min = np.zeros(M1_ntheta)\n",
    "M1_LB2_mean = np.zeros(M1_ntheta)\n",
    "M1_LB3_max = np.zeros(M1_ntheta)\n",
    "M1_LB3_min = np.zeros(M1_ntheta)\n",
    "M1_LB3_mean = np.zeros(M1_ntheta)\n",
    "\n",
    "for i in range(M1_ntheta):\n",
    "    M1_LB2_max[i] = M1_max_umag[i, M1_LB2_idxs[i]]\n",
    "    M1_LB2_min[i] = M1_min_umag[i, M1_LB2_idxs[i]]\n",
    "    M1_LB2_mean[i] = M1_mean_umag[i, M1_LB2_idxs[i]]\n",
    "    \n",
    "    M1_LB3_max[i] = M1_max_umag[i, M1_LB3_idxs[i]]\n",
    "    M1_LB3_min[i] = M1_min_umag[i, M1_LB3_idxs[i]]\n",
    "    M1_LB3_mean[i] = M1_mean_umag[i, M1_LB3_idxs[i]]"
   ]
  },
  {
   "cell_type": "code",
   "execution_count": 14,
   "metadata": {},
   "outputs": [
    {
     "data": {
      "text/plain": [
       "<Figure size 432x288 with 0 Axes>"
      ]
     },
     "metadata": {},
     "output_type": "display_data"
    },
    {
     "data": {
      "image/png": "[encoded data removed]",
      "text/plain": [
       "<Figure size 432x288 with 1 Axes>"
      ]
     },
     "metadata": {
      "needs_background": "light"
     },
     "output_type": "display_data"
    }
   ],
   "source": [
    "plt.clf()\n",
    "_, ax = plt.subplots()\n",
    "ax.set_title(fr\"Magnitudes\")\n",
    "ax.set_xlabel(r'$\\theta$ ($^\\circ$)')\n",
    "ax.set_ylabel(r'Magnitude (log-scale)')\n",
    "\n",
    "# MoS2-0\n",
    "ax.plot(M1_thetas[CUT:], M1_LB2_mean[CUT:], color='cornflowerblue', label=r'DLB$_1$')\n",
    "ax.fill_between(M1_thetas[CUT:], M1_LB2_min[CUT:], M1_LB2_max[CUT:], color='cornflowerblue', alpha=0.25)\n",
    "ax.plot(M1_thetas[CUT:], M1_LB3_mean[CUT:], color='firebrick', label=r'DLB$_2$')\n",
    "ax.fill_between(M1_thetas[CUT:], M1_LB3_min[CUT:], M1_LB3_max[CUT:], color='firebrick', alpha=0.25)\n",
    "\n",
    "ax.legend(loc='lower left')\n",
    "ax.set_yscale(\"log\")\n",
    "plt.xlim((0,10))\n",
    "plt.savefig(\"/Users/jonathanlu/Documents/data_mlph/MoS2_mags.pdf\")\n",
    "plt.show()"
   ]
  },
  {
   "cell_type": "code",
   "execution_count": null,
   "metadata": {},
   "outputs": [],
   "source": []
  }
 ],
 "metadata": {
  "interpreter": {
   "hash": "d6de9be78b6020e3c4b915c697ec9df5423262584917bd5f64c63e56f57b2ea4"
  },
  "kernelspec": {
   "display_name": "Python 3.7.7 ('base')",
   "language": "python",
   "name": "python3"
  },
  "language_info": {
   "codemirror_mode": {
    "name": "ipython",
    "version": 3
   },
   "file_extension": ".py",
   "mimetype": "text/x-python",
   "name": "python",
   "nbconvert_exporter": "python",
   "pygments_lexer": "ipython3",
   "version": "3.7.7"
  },
  "orig_nbformat": 4
 },
 "nbformat": 4,
 "nbformat_minor": 2
}
