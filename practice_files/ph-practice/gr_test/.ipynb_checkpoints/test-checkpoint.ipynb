{
 "cells": [
  {
   "cell_type": "markdown",
   "metadata": {},
   "source": [
    "# Test of phonopy API on python"
   ]
  },
  {
   "cell_type": "code",
   "execution_count": 1,
   "metadata": {},
   "outputs": [],
   "source": [
    "# Any constants copied over for easy transfer of code\n",
    "PHONOPY_NUM_LINE_INTS = 50\n",
    "PH_BAND_RAW_DATA_NAME = 'ph_dos_raw'"
   ]
  },
  {
   "cell_type": "code",
   "execution_count": 2,
   "metadata": {
    "tags": []
   },
   "outputs": [
    {
     "ename": "ModuleNotFoundError",
     "evalue": "No module named 'pymatgen'",
     "output_type": "error",
     "traceback": [
      "\u001b[0;31m---------------------------------------------------------------------------\u001b[0m",
      "\u001b[0;31mModuleNotFoundError\u001b[0m                       Traceback (most recent call last)",
      "\u001b[0;32m<ipython-input-2-9f85a91b44c1>\u001b[0m in \u001b[0;36m<module>\u001b[0;34m\u001b[0m\n\u001b[1;32m      1\u001b[0m \u001b[0;31m# Test box\u001b[0m\u001b[0;34m\u001b[0m\u001b[0;34m\u001b[0m\u001b[0;34m\u001b[0m\u001b[0m\n\u001b[0;32m----> 2\u001b[0;31m \u001b[0;32mfrom\u001b[0m \u001b[0mpymatgen\u001b[0m\u001b[0;34m.\u001b[0m\u001b[0mio\u001b[0m\u001b[0;34m.\u001b[0m\u001b[0mvasp\u001b[0m\u001b[0;34m.\u001b[0m\u001b[0minputs\u001b[0m \u001b[0;32mimport\u001b[0m \u001b[0mKpoints\u001b[0m\u001b[0;34m\u001b[0m\u001b[0;34m\u001b[0m\u001b[0m\n\u001b[0m\u001b[1;32m      3\u001b[0m \u001b[0;34m\u001b[0m\u001b[0m\n\u001b[1;32m      4\u001b[0m \u001b[0mkpts_line\u001b[0m \u001b[0;34m=\u001b[0m \u001b[0mKpoints\u001b[0m\u001b[0;34m.\u001b[0m\u001b[0mfrom_file\u001b[0m\u001b[0;34m(\u001b[0m\u001b[0;34m'LINE_KPOINTS'\u001b[0m\u001b[0;34m)\u001b[0m\u001b[0;34m\u001b[0m\u001b[0;34m\u001b[0m\u001b[0m\n\u001b[1;32m      5\u001b[0m \u001b[0mprint\u001b[0m\u001b[0;34m(\u001b[0m\u001b[0mkpts_line\u001b[0m\u001b[0;34m.\u001b[0m\u001b[0mlabels\u001b[0m\u001b[0;34m)\u001b[0m\u001b[0;34m\u001b[0m\u001b[0;34m\u001b[0m\u001b[0m\n",
      "\u001b[0;31mModuleNotFoundError\u001b[0m: No module named 'pymatgen'"
     ]
    }
   ],
   "source": [
    "# Test box\n",
    "from pymatgen.io.vasp.inputs import Kpoints\n",
    "\n",
    "kpts_line = Kpoints.from_file('LINE_KPOINTS')\n",
    "print(kpts_line.labels)"
   ]
  },
  {
   "cell_type": "code",
   "execution_count": null,
   "metadata": {
    "tags": []
   },
   "outputs": [],
   "source": [
    "import matplotlib.pyplot as plt\n",
    "%matplotlib inline\n",
    "\n",
    "import phonopy\n",
    "from phonopy.phonon.band_structure import get_band_qpoints_and_path_connections\n",
    "import numpy as np\n",
    "PH_FORCE_SETS_NAME = \"FORCE_SETS\"\n",
    "DIR_PHONOPY = './'\n",
    "PH_BASIC_INFO_FILENAME = 'phonopy_basic_structure_input.txt'\n",
    "\n",
    "# Load in the info from preprocessing and vasp force calculations\n",
    "def ph_load_raw_data(dirName):\n",
    "    # Since FORCE_SETS already exists we just need to give it SPOSCAR so it knows about the supercell\n",
    "    #TODO checkpath\n",
    "    try:\n",
    "        print('Loading phonon raw data from FORCE_SETS...')\n",
    "        phonon = phonopy.load(supercell_filename=dirName + \"SPOSCAR\", log_level=1)\n",
    "        print('Load complete. Proceeding to analysis...')\n",
    "        return phonon\n",
    "    except Exception as err:\n",
    "        print('Error in loading phonopy data: ' + err)\n",
    "        sys.exit('Suggested source of error: you have either missing or invalid FORCE_SETS')"
   ]
  },
  {
   "cell_type": "code",
   "execution_count": null,
   "metadata": {},
   "outputs": [],
   "source": [
    "# Print basic info we might want to have\n",
    "def ph_print_basic_info(phonon_obj, outDirName):\n",
    "    #TODO checkpath\n",
    "    try:\n",
    "        f = open(PH_BASIC_INFO_FILENAME, 'w')\n",
    "        f.write(str(phonon_obj.primitive))\n",
    "        f.close()\n",
    "        return\n",
    "    except Exception as err:\n",
    "        print('Error in writing basic info out to %s in directory %s.'%(PH_BASIC_INFO_FILENAME, DIR_PHONOPY))\n",
    "        sys.exit('Error message:', err)"
   ]
  },
  {
   "cell_type": "code",
   "execution_count": null,
   "metadata": {
    "tags": []
   },
   "outputs": [],
   "source": [
    "# Get the path for phonopy from LINE_KPOINTS\n",
    "def ph_get_band_path(kpoints_line_obj):\n",
    "    # Fancy way of removing duplicate rows, which VASP needs but phonopy does not want\n",
    "    # NOTE: this function doesn't work well for complicated paths, but 2D materials are probably fine. See github's homepage README for more info.\n",
    "    new_array = kpoints_line_obj.kpts\n",
    "    np_path = np.unique(new_array, axis=0)\n",
    "    path = []\n",
    "    for i in np_path:\n",
    "        path.append(list(i))\n",
    "    path.append(path[0]) # We do want the last row to be the same as the first row, to get a closed path!\n",
    "    return path\n",
    "\n",
    "# Get the labels for the path\n",
    "def ph_get_band_path_labels(kpoints_line_obj):\n",
    "    # We really just need to get rid of any labels that don't \n",
    "    # NOTE: this function doesn't work well for complicated paths, but 2D materials are probably fine. See github's homepage README for more info.\n",
    "    labelArr = list(dict.fromkeys(kpoints_line_obj.labels))\n",
    "    gammaIndex = None\n",
    "\n",
    "    # phonopy expects a special input style for Gamma different from vasp\n",
    "    for i in range(0, len(labelArr)):\n",
    "        if labelArr[i] == '\\\\Gamma':\n",
    "            gammaIndex = i\n",
    "    labelArr[gammaIndex] = '$\\\\Gamma$'\n",
    "\n",
    "    # like with get_band_path, we append to the end the first label to close the path\n",
    "    labelArr.append(labelArr[0])\n",
    "\n",
    "    return labelArr"
   ]
  },
  {
   "cell_type": "code",
   "execution_count": null,
   "metadata": {},
   "outputs": [],
   "source": [
    "# Here we can get the band structure using the phonon object loaded in the load function\n",
    "def get_band_structure(phonon, kpoints_line_obj, outDir, num_inters=PHONOPY_NUM_LINE_INTS, extract_raw_data=True, extract_plot=True):\n",
    "    # TODO: outDir = checkPath(outDir)\n",
    "    path = ph_get_band_path(kpoints_line_obj)\n",
    "    labels = ph_get_band_path_labels(kpoints_line_obj)\n",
    "    print('paths:', path)\n",
    "    print('labels:', labels)\n",
    "    qpoints, connections = get_band_qpoints_and_path_connections(path, npoints=num_inters)\n",
    "    phonon.run_band_structure(qpoints, path_connections=connections, labels=labels)\n",
    "\n",
    "    if extract_raw_data:\n",
    "        try:\n",
    "            f = open(outDir + PH_BAND_RAW_DATA_NAME, 'w')\n",
    "            f.write(str(phonon.get_band_structure_dict()))\n",
    "            f.close()\n",
    "        except Exception as err:\n",
    "            print('Error writing band structure raw info to file: ' + err)\n",
    "\n",
    "    if extract_plot:\n",
    "        phonon.plot_band_structure().show()\n",
    "        # phonon.plot_band_structure().savefig(outDir)\n",
    "    \n",
    "    return"
   ]
  },
  {
   "cell_type": "code",
   "execution_count": null,
   "metadata": {
    "tags": []
   },
   "outputs": [],
   "source": [
    "phonon = ph_load_raw_data(DIR_PHONOPY) # Get phonopy data object containing the info to parse for band/dos\n",
    "ph_print_basic_info(phonon, DIR_PHONOPY) # Basic info about the crystal\n",
    "get_band_structure(phonon, kpts_line, DIR_PHONOPY)"
   ]
  },
  {
   "cell_type": "code",
   "execution_count": null,
   "metadata": {},
   "outputs": [],
   "source": []
  }
 ],
 "metadata": {
  "kernelspec": {
   "display_name": "Python 3",
   "language": "python",
   "name": "python3"
  },
  "language_info": {
   "codemirror_mode": {
    "name": "ipython",
    "version": 3
   },
   "file_extension": ".py",
   "mimetype": "text/x-python",
   "name": "python",
   "nbconvert_exporter": "python",
   "pygments_lexer": "ipython3",
   "version": "3.8.4"
  }
 },
 "nbformat": 4,
 "nbformat_minor": 2
}
