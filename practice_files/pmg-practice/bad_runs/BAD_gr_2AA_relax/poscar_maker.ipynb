{
 "metadata": {
  "language_info": {
   "codemirror_mode": {
    "name": "ipython",
    "version": 3
   },
   "file_extension": ".py",
   "mimetype": "text/x-python",
   "name": "python",
   "nbconvert_exporter": "python",
   "pygments_lexer": "ipython3",
   "version": 3
  },
  "orig_nbformat": 2,
  "kernelspec": {
   "name": "python_defaultSpec_1595462218488",
   "display_name": "Python 3.8.3 64-bit"
  }
 },
 "nbformat": 4,
 "nbformat_minor": 2,
 "cells": [
  {
   "cell_type": "markdown",
   "metadata": {},
   "source": [
    "# Modifying the Gr POSCAR"
   ]
  },
  {
   "cell_type": "code",
   "execution_count": 23,
   "metadata": {
    "tags": []
   },
   "outputs": [
    {
     "output_type": "stream",
     "name": "stdout",
     "text": "Full Formula (C2)\nReduced Formula: C\nabc   :   2.459512   2.459512  20.000000\nangles:  90.000000  90.000000  59.999997\nSites (2)\n  #  SP           a         b    c\n---  ----  --------  --------  ---\n  0  C     0         0           0\n  1  C     0.333333  0.333333    0\n"
    }
   ],
   "source": [
    "from pymatgen import Structure\n",
    "from pymatgen.io.vasp import Poscar\n",
    "from pymatgen.io.vasp.sets import MPRelaxSet\n",
    "\n",
    "# Import the current structure so we can make modifications.\n",
    "poscar = Poscar.from_file(\"POSCAR\")\n",
    "structure = poscar.structure\n",
    "print(structure)"
   ]
  },
  {
   "cell_type": "code",
   "execution_count": 24,
   "metadata": {},
   "outputs": [
    {
     "output_type": "execute_result",
     "data": {
      "text/plain": "<bound method IStructure.get_primitive_structure of Structure Summary\nLattice\n    abc : 2.4595121100608552 2.4595121100608552 20.0\n angles : 90.0 90.0 59.99999703942606\n volume : 104.7752112\n      A : 2.13 -1.229756 0.0\n      B : 2.13 1.229756 0.0\n      C : 0.0 0.0 20.0\nPeriodicSite: C (0.0000, 0.0000, 0.0000) [0.0000, 0.0000, 0.0000]\nPeriodicSite: C (1.4200, 0.0000, 0.0000) [0.3333, 0.3333, 0.0000]>"
     },
     "metadata": {},
     "execution_count": 24
    }
   ],
   "source": [
    "structure.get_primitive_structure"
   ]
  },
  {
   "cell_type": "code",
   "execution_count": 25,
   "metadata": {
    "tags": []
   },
   "outputs": [
    {
     "output_type": "stream",
     "name": "stdout",
     "text": "2.130000 -1.229756 0.000000\n2.130000 1.229756 0.000000\n0.000000 0.000000 20.000000\n[PeriodicSite: C (0.0000, 0.0000, 0.0000) [0.0000, 0.0000, 0.0000], PeriodicSite: C (1.4200, 0.0000, 0.0000) [0.3333, 0.3333, 0.0000]]\n"
    }
   ],
   "source": [
    "print(structure.lattice)\n",
    "print(structure.sites)"
   ]
  },
  {
   "cell_type": "code",
   "execution_count": 26,
   "metadata": {
    "tags": []
   },
   "outputs": [
    {
     "output_type": "stream",
     "name": "stdout",
     "text": "[PeriodicSite: C (0.0000, 0.0000, 0.0000) [0.0000, 0.0000, 0.0000], PeriodicSite: C (1.4200, 0.0000, 0.0000) [0.3333, 0.3333, 0.0000], PeriodicSite: C (0.0000, 0.0000, 3.9000) [0.0000, 0.0000, 0.1950], PeriodicSite: C (1.4200, 0.0000, 3.9000) [0.3333, 0.3333, 0.1950]]\n"
    }
   ],
   "source": [
    "structure.append(\"C\", [0,0,0.195])\n",
    "structure.append(\"C\", [0.333333,0.333333,0.195])\n",
    "print(structure.sites)"
   ]
  },
  {
   "cell_type": "code",
   "execution_count": 27,
   "metadata": {},
   "outputs": [],
   "source": [
    "poscar.write_file(\"TEST\")"
   ]
  },
  {
   "cell_type": "code",
   "execution_count": 29,
   "metadata": {
    "tags": []
   },
   "outputs": [
    {
     "output_type": "stream",
     "name": "stdout",
     "text": "[0, 1, 2, 3, 4]\n"
    }
   ],
   "source": [
    "hello = list(range(0,5))\n",
    "print(hello)"
   ]
  },
  {
   "cell_type": "code",
   "execution_count": null,
   "metadata": {},
   "outputs": [],
   "source": []
  }
 ]
}