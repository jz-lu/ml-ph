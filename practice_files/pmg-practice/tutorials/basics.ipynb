{
 "cells": [
  {
   "cell_type": "code",
   "execution_count": 2,
   "metadata": {
    "tags": []
   },
   "outputs": [
    {
     "output_type": "stream",
     "name": "stdout",
     "text": "hello world\n"
    }
   ],
   "source": [
    "import pymatgen as mg\n",
    "print('hello world')"
   ]
  },
  {
   "cell_type": "code",
   "execution_count": 3,
   "metadata": {
    "tags": []
   },
   "outputs": [
    {
     "output_type": "stream",
     "name": "stdout",
     "text": "Atomic mass of Si is 28.0855 amu\nSi has a melting point of 1687.0 K\nIonic radii for Si: {4: 0.54}\n"
    }
   ],
   "source": [
    "si = mg.Element(\"Si\")\n",
    "print('Atomic mass of Si is {}'.format(si.atomic_mass))\n",
    "print(\"Si has a melting point of {}\".format(si.melting_point))\n",
    "print(\"Ionic radii for Si: {}\".format(si.ionic_radii))"
   ]
  },
  {
   "cell_type": "markdown",
   "metadata": {},
   "source": [
    "A Composition is essentially an *immutable* mapping of Elements/Species with amounts, and useful properties like molecular weight, get_atomic_fraction, etc. Note that you can conveniently either use an Element/Specie object or a string as keys (this is a feature)."
   ]
  },
  {
   "cell_type": "code",
   "execution_count": 5,
   "metadata": {
    "tags": []
   },
   "outputs": [
    {
     "output_type": "stream",
     "name": "stdout",
     "text": "Weight of Fe2O3 is 159.6882 amu\nAmount of Fe in Fe2O3 is 2.0 (number of Fe atoms per molecule)\nAtomic fraction of Fe is 0.4\nWeight fraction of Fe is 0.699425505453753 \n"
    }
   ],
   "source": [
    "comp = mg.Composition(\"Fe2O3\")\n",
    "print(\"Weight of Fe2O3 is {}\".format(comp.weight))\n",
    "print(\"Amount of Fe in Fe2O3 is {} (number of Fe atoms per molecule)\".format(comp[\"Fe\"]))\n",
    "print(\"Atomic fraction of Fe is {}\".format(comp.get_atomic_fraction(\"Fe\")))\n",
    "print(\"Weight fraction of Fe is {}\".format(comp.get_wt_fraction(\"Fe\")))"
   ]
  },
  {
   "cell_type": "markdown",
   "metadata": {},
   "source": [
    "A Lattice represents a Bravais lattice. Convenience static functions are provided for the creation of common lattice types from a minimum number of arguments."
   ]
  },
  {
   "cell_type": "code",
   "execution_count": 7,
   "metadata": {
    "tags": []
   },
   "outputs": [
    {
     "output_type": "stream",
     "name": "stdout",
     "text": "(4.2, 4.2, 4.2, 90.0, 90.0, 90.0)\n"
    }
   ],
   "source": [
    "# Creates cubic Lattice with lattice constant 4.2\n",
    "lattice = mg.Lattice.cubic(4.2)\n",
    "print(lattice.parameters)"
   ]
  },
  {
   "cell_type": "markdown",
   "metadata": {},
   "source": [
    "A Structure object represents a crystal structure (lattice + basis). A Structure is essentially a list of PeriodicSites with the same Lattice. Let us now create a CsCl structure."
   ]
  },
  {
   "cell_type": "code",
   "execution_count": 8,
   "metadata": {
    "tags": []
   },
   "outputs": [
    {
     "output_type": "stream",
     "name": "stdout",
     "text": "Unit cell vol = 74.08800000000001\nFirst site of the structure is [0. 0. 0.] Cs\n"
    }
   ],
   "source": [
    "structure = mg.Structure(lattice, [\"Cs\", \"Cl\"], [[0, 0, 0], [0.5, 0.5, 0.5]])\n",
    "print(\"Unit cell vol = {}\".format(structure.volume))\n",
    "print(\"First site of the structure is {}\".format(structure[0]))"
   ]
  },
  {
   "cell_type": "markdown",
   "metadata": {},
   "source": [
    "The Structure object contains many useful manipulation functions. Since Structure is essentially a list, it contains a simple pythonic API for manipulation its sites. Some examples are given below. Please note that there is an immutable version of Structure known as IStructure, for the use case where you really need to enforce that the structure does not change. Conversion between these forms of Structure can be performed using from_sites()."
   ]
  },
  {
   "cell_type": "code",
   "execution_count": 9,
   "metadata": {
    "tags": []
   },
   "outputs": [
    {
     "output_type": "stream",
     "name": "stdout",
     "text": "Full Formula (Cs3 Li1 Cl4)\nReduced Formula: Cs3LiCl4\nabc   :   8.400000   8.400000   4.200000\nangles:  90.000000  90.000000  90.000000\nSites (8)\n  #  SP       a     b    c\n---  ----  ----  ----  ---\n  0  Cs    0.01  0.5   0\n  1  Cs    0.5   0     0\n  2  Cs    0.5   0.5   0\n  3  Cl    0.25  0.25  0.5\n  4  Cl    0.25  0.75  0.5\n  5  Cl    0.75  0.25  0.5\n  6  Cl    0.75  0.75  0.5\n  7  Li    0     0     0\n"
    }
   ],
   "source": [
    "structure.make_supercell([2, 2, 1]) #Make a 3 x 2 x 1 supercell of the structure\n",
    "del structure[0] #Remove the first site\n",
    "structure.append(\"Na\", [0,0,0]) #Append a Na atom.\n",
    "structure[-1] = \"Li\" #Change the last added atom to Li.\n",
    "structure[0] = \"Cs\", [0.01, 0.5, 0] #Shift the first atom by 0.01 in fractional coordinates in the x-direction.\n",
    "immutable_structure = mg.IStructure.from_sites(structure) #Create an immutable structure (cannot be modified).\n",
    "print(immutable_structure)"
   ]
  },
  {
   "cell_type": "markdown",
   "metadata": {},
   "source": [
    "# Basic Analyses"
   ]
  },
  {
   "cell_type": "code",
   "execution_count": 10,
   "metadata": {
    "tags": []
   },
   "outputs": [
    {
     "output_type": "stream",
     "name": "stdout",
     "text": "The spacegroup is Pmm2\n"
    }
   ],
   "source": [
    "# Example: determining the symmetry if the above structure\n",
    "from pymatgen.symmetry.analyzer import SpacegroupAnalyzer\n",
    "finder = SpacegroupAnalyzer(structure)\n",
    "print(\"The spacegroup is {}\".format(finder.get_space_group_symbol()))"
   ]
  },
  {
   "cell_type": "markdown",
   "metadata": {},
   "source": [
    "Structure matching tool example."
   ]
  },
  {
   "cell_type": "code",
   "execution_count": 12,
   "metadata": {
    "tags": []
   },
   "outputs": [
    {
     "output_type": "stream",
     "name": "stdout",
     "text": "True\n"
    }
   ],
   "source": [
    "from pymatgen.analysis.structure_matcher import StructureMatcher\n",
    "import numpy as np\n",
    "# Let's create two structures which are the same topologically, but with different elements, and one lattice is larger.\n",
    "s1 = mg.Structure(lattice, [\"Cs\", \"Cl\"], [[0, 0, 0], [0.5, 0.5, 0.5]])\n",
    "s2 = mg.Structure(mg.Lattice.cubic(5), [\"Rb\", \"F\"], [[0, 0, 0], [0.5, 0.5, 0.5]])\n",
    "m = StructureMatcher()\n",
    "print(m.fit_anonymous(s1, s2)) # Returns a mapping which maps s1 and s2 onto each other. Strict element fitting is also available."
   ]
  },
  {
   "cell_type": "markdown",
   "metadata": {},
   "source": [
    "# Input/Output"
   ]
  },
  {
   "cell_type": "markdown",
   "metadata": {},
   "source": [
    "Pymatgen also provides IO support for various file formats in the pymatgen.io package. A convenient set of read_structure and write_structure functions are also provided which auto-detects several well-known formats."
   ]
  },
  {
   "cell_type": "code",
   "execution_count": 13,
   "metadata": {
    "tags": []
   },
   "outputs": [
    {
     "output_type": "stream",
     "name": "stdout",
     "text": "Cs3 Li1 Cl4\n1.0\n8.400000 0.000000 0.000000\n0.000000 8.400000 0.000000\n0.000000 0.000000 4.200000\nCs Cl Li\n3 4 1\ndirect\n0.010000 0.500000 0.000000 Cs\n0.500000 0.000000 0.000000 Cs\n0.500000 0.500000 0.000000 Cs\n0.250000 0.250000 0.500000 Cl\n0.250000 0.750000 0.500000 Cl\n0.750000 0.250000 0.500000 Cl\n0.750000 0.750000 0.500000 Cl\n0.000000 0.000000 0.000000 Li\n\n# generated using pymatgen\ndata_Cs3LiCl4\n_symmetry_space_group_name_H-M   'P 1'\n_cell_length_a   8.40000000\n_cell_length_b   8.40000000\n_cell_length_c   4.20000000\n_cell_angle_alpha   90.00000000\n_cell_angle_beta   90.00000000\n_cell_angle_gamma   90.00000000\n_symmetry_Int_Tables_number   1\n_chemical_formula_structural   Cs3LiCl4\n_chemical_formula_sum   'Cs3 Li1 Cl4'\n_cell_volume   296.35200000\n_cell_formula_units_Z   1\nloop_\n _symmetry_equiv_pos_site_id\n _symmetry_equiv_pos_as_xyz\n  1  'x, y, z'\nloop_\n _atom_site_type_symbol\n _atom_site_label\n _atom_site_symmetry_multiplicity\n _atom_site_fract_x\n _atom_site_fract_y\n _atom_site_fract_z\n _atom_site_occupancy\n  Cs  Cs0  1  0.01000000  0.50000000  0.00000000  1\n  Cs  Cs1  1  0.50000000  0.00000000  0.00000000  1\n  Cs  Cs2  1  0.50000000  0.50000000  0.00000000  1\n  Cl  Cl3  1  0.25000000  0.25000000  0.50000000  1\n  Cl  Cl4  1  0.25000000  0.75000000  0.50000000  1\n  Cl  Cl5  1  0.75000000  0.25000000  0.50000000  1\n  Cl  Cl6  1  0.75000000  0.75000000  0.50000000  1\n  Li  Li7  1  0.00000000  0.00000000  0.00000000  1\n\n"
    }
   ],
   "source": [
    "# Convenient IO to various formats. Format is intelligently determined from file name and extension.\n",
    "structure.to(filename=\"POSCAR\")\n",
    "structure.to(filename=\"CsCl.cif\")\n",
    "\n",
    "# Or if you just supply fmt, you simply get a string.\n",
    "print(structure.to(fmt=\"poscar\"))\n",
    "print(structure.to(fmt=\"cif\"))"
   ]
  },
  {
   "cell_type": "code",
   "execution_count": null,
   "metadata": {},
   "outputs": [],
   "source": []
  }
 ],
 "metadata": {
  "language_info": {
   "codemirror_mode": {
    "name": "ipython",
    "version": 3
   },
   "file_extension": ".py",
   "mimetype": "text/x-python",
   "name": "python",
   "nbconvert_exporter": "python",
   "pygments_lexer": "ipython3",
   "version": 3
  },
  "orig_nbformat": 2,
  "kernelspec": {
   "name": "python_defaultSpec_1595269729450",
   "display_name": "Python 3.8.3 64-bit ('my_pymatgen': conda)"
  }
 },
 "nbformat": 4,
 "nbformat_minor": 2
}